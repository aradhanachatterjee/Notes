{
 "cells": [
  {
   "cell_type": "raw",
   "metadata": {
    "editable": true,
    "raw_mimetype": "",
    "slideshow": {
     "slide_type": ""
    },
    "tags": [],
    "vscode": {
     "languageId": "raw"
    }
   },
   "source": [
    "---\n",
    "title: \"Week 3\"\n",
    "format:\n",
    "    html:\n",
    "        toc: true\n",
    "        toc_depth: 2\n",
    "        number_sections: true\n",
    "        smooth-scroll: true\n",
    "        code-fold: true\n",
    "    revealjs:\n",
    "        smaller: true\n",
    "        center: false\n",
    "        scrollable: true\n",
    "        slideNumber: true\n",
    "        code-line-numbers: false\n",
    "        footer: '<a href=\"w3.ipynb\">Complete notes</a>'\n",
    "        output-file: w3-revealjs.html\n",
    "execute:\n",
    "    echo: false\n",
    "---"
   ]
  },
  {
   "cell_type": "code",
   "execution_count": null,
   "metadata": {
    "editable": true,
    "slideshow": {
     "slide_type": ""
    },
    "tags": []
   },
   "outputs": [],
   "source": [
    "!pip3 install ipython-sql"
   ]
  },
  {
   "cell_type": "code",
   "execution_count": 1,
   "metadata": {
    "editable": true,
    "slideshow": {
     "slide_type": ""
    },
    "tags": []
   },
   "outputs": [],
   "source": [
    "%load_ext sql"
   ]
  },
  {
   "cell_type": "code",
   "execution_count": 33,
   "metadata": {
    "editable": true,
    "slideshow": {
     "slide_type": ""
    },
    "tags": []
   },
   "outputs": [],
   "source": [
    "%reload_ext sql"
   ]
  },
  {
   "cell_type": "markdown",
   "metadata": {},
   "source": [
    "# Lecture 3.1: SQL Examples"
   ]
  },
  {
   "cell_type": "code",
   "execution_count": 2,
   "metadata": {},
   "outputs": [],
   "source": [
    "%sql sqlite:///univdata.db"
   ]
  },
  {
   "cell_type": "markdown",
   "metadata": {},
   "source": [
    "## Select distinct\n",
    "\n",
    "- From the `classroom` relation, find the names of buildings in which every individual classroom has capacity less than 100 (removing the duplicates)."
   ]
  },
  {
   "cell_type": "code",
   "execution_count": null,
   "metadata": {
    "scrolled": true
   },
   "outputs": [],
   "source": [
    "classroom = %sql SELECT * FROM classroom;"
   ]
  },
  {
   "cell_type": "code",
   "execution_count": 4,
   "metadata": {},
   "outputs": [
    {
     "data": {
      "text/html": [
       "<table>\n",
       "    <thead>\n",
       "        <tr>\n",
       "            <th>building</th>\n",
       "            <th>room_number</th>\n",
       "            <th>capacity</th>\n",
       "        </tr>\n",
       "    </thead>\n",
       "    <tbody>\n",
       "        <tr>\n",
       "            <td>Packard</td>\n",
       "            <td>101</td>\n",
       "            <td>500</td>\n",
       "        </tr>\n",
       "        <tr>\n",
       "            <td>Painter</td>\n",
       "            <td>514</td>\n",
       "            <td>10</td>\n",
       "        </tr>\n",
       "        <tr>\n",
       "            <td>Taylor</td>\n",
       "            <td>3128</td>\n",
       "            <td>70</td>\n",
       "        </tr>\n",
       "        <tr>\n",
       "            <td>Watson</td>\n",
       "            <td>100</td>\n",
       "            <td>30</td>\n",
       "        </tr>\n",
       "        <tr>\n",
       "            <td>Watson</td>\n",
       "            <td>120</td>\n",
       "            <td>50</td>\n",
       "        </tr>\n",
       "    </tbody>\n",
       "</table>"
      ],
      "text/plain": [
       "[('Packard', '101', 500),\n",
       " ('Painter', '514', 10),\n",
       " ('Taylor', '3128', 70),\n",
       " ('Watson', '100', 30),\n",
       " ('Watson', '120', 50)]"
      ]
     },
     "execution_count": 4,
     "metadata": {},
     "output_type": "execute_result"
    }
   ],
   "source": [
    "classroom"
   ]
  },
  {
   "cell_type": "markdown",
   "metadata": {
    "editable": true,
    "slideshow": {
     "slide_type": ""
    },
    "tags": []
   },
   "source": [
    "Query:\n",
    "\n",
    "```sql\n",
    "SELECT DISTINCT building\n",
    "FROM classroom\n",
    "WHERE capacity < 100;\n",
    "```"
   ]
  },
  {
   "cell_type": "code",
   "execution_count": null,
   "metadata": {},
   "outputs": [],
   "source": [
    "result1 = %sql SELECT DISTINCT building FROM classroom C WHERE capacity < 100;"
   ]
  },
  {
   "cell_type": "code",
   "execution_count": 12,
   "metadata": {},
   "outputs": [
    {
     "data": {
      "text/html": [
       "<table>\n",
       "    <thead>\n",
       "        <tr>\n",
       "            <th>building</th>\n",
       "        </tr>\n",
       "    </thead>\n",
       "    <tbody>\n",
       "        <tr>\n",
       "            <td>Painter</td>\n",
       "        </tr>\n",
       "        <tr>\n",
       "            <td>Taylor</td>\n",
       "        </tr>\n",
       "        <tr>\n",
       "            <td>Watson</td>\n",
       "        </tr>\n",
       "    </tbody>\n",
       "</table>"
      ],
      "text/plain": [
       "[('Painter',), ('Taylor',), ('Watson',)]"
      ]
     },
     "execution_count": 12,
     "metadata": {},
     "output_type": "execute_result"
    }
   ],
   "source": [
    "result1"
   ]
  },
  {
   "cell_type": "markdown",
   "metadata": {},
   "source": [
    "## Select all\n",
    "\n",
    "- From the `classroom` relation, find the names of buildings in which every individual classroom has a capacity of less than 100 (without removing the duplicates)."
   ]
  },
  {
   "cell_type": "code",
   "execution_count": 20,
   "metadata": {},
   "outputs": [
    {
     "data": {
      "text/html": [
       "<table>\n",
       "    <thead>\n",
       "        <tr>\n",
       "            <th>building</th>\n",
       "            <th>room_number</th>\n",
       "            <th>capacity</th>\n",
       "        </tr>\n",
       "    </thead>\n",
       "    <tbody>\n",
       "        <tr>\n",
       "            <td>Packard</td>\n",
       "            <td>101</td>\n",
       "            <td>500</td>\n",
       "        </tr>\n",
       "        <tr>\n",
       "            <td>Painter</td>\n",
       "            <td>514</td>\n",
       "            <td>10</td>\n",
       "        </tr>\n",
       "        <tr>\n",
       "            <td>Taylor</td>\n",
       "            <td>3128</td>\n",
       "            <td>70</td>\n",
       "        </tr>\n",
       "        <tr>\n",
       "            <td>Watson</td>\n",
       "            <td>100</td>\n",
       "            <td>30</td>\n",
       "        </tr>\n",
       "        <tr>\n",
       "            <td>Watson</td>\n",
       "            <td>120</td>\n",
       "            <td>50</td>\n",
       "        </tr>\n",
       "    </tbody>\n",
       "</table>"
      ],
      "text/plain": [
       "[('Packard', '101', 500),\n",
       " ('Painter', '514', 10),\n",
       " ('Taylor', '3128', 70),\n",
       " ('Watson', '100', 30),\n",
       " ('Watson', '120', 50)]"
      ]
     },
     "execution_count": 20,
     "metadata": {},
     "output_type": "execute_result"
    }
   ],
   "source": [
    "classroom"
   ]
  },
  {
   "cell_type": "markdown",
   "metadata": {},
   "source": [
    "Query:\n",
    "\n",
    "```sql\n",
    "SELECT ALL building\n",
    "FROM classroom C\n",
    "WHERE capacity < 100;\n",
    "```"
   ]
  },
  {
   "cell_type": "code",
   "execution_count": null,
   "metadata": {},
   "outputs": [],
   "source": [
    "result3 = %sql SELECT ALL building FROM classroom C WHERE capacity < 100;"
   ]
  },
  {
   "cell_type": "code",
   "execution_count": 16,
   "metadata": {},
   "outputs": [
    {
     "data": {
      "text/html": [
       "<table>\n",
       "    <thead>\n",
       "        <tr>\n",
       "            <th>building</th>\n",
       "        </tr>\n",
       "    </thead>\n",
       "    <tbody>\n",
       "        <tr>\n",
       "            <td>Painter</td>\n",
       "        </tr>\n",
       "        <tr>\n",
       "            <td>Taylor</td>\n",
       "        </tr>\n",
       "        <tr>\n",
       "            <td>Watson</td>\n",
       "        </tr>\n",
       "        <tr>\n",
       "            <td>Watson</td>\n",
       "        </tr>\n",
       "    </tbody>\n",
       "</table>"
      ],
      "text/plain": [
       "[('Painter',), ('Taylor',), ('Watson',), ('Watson',)]"
      ]
     },
     "execution_count": 16,
     "metadata": {},
     "output_type": "execute_result"
    }
   ],
   "source": [
    "result3"
   ]
  },
  {
   "cell_type": "markdown",
   "metadata": {},
   "source": [
    "- Note that duplicate retention is the default and hence it is a common practice to skip `all` immediately after `select`."
   ]
  },
  {
   "cell_type": "markdown",
   "metadata": {},
   "source": [
    "## Cartesian product"
   ]
  },
  {
   "cell_type": "code",
   "execution_count": null,
   "metadata": {},
   "outputs": [],
   "source": [
    "department = %sql SELECT * FROM department"
   ]
  },
  {
   "cell_type": "code",
   "execution_count": 8,
   "metadata": {},
   "outputs": [
    {
     "data": {
      "text/html": [
       "<table>\n",
       "    <thead>\n",
       "        <tr>\n",
       "            <th>dept_name</th>\n",
       "            <th>building</th>\n",
       "            <th>budget</th>\n",
       "        </tr>\n",
       "    </thead>\n",
       "    <tbody>\n",
       "        <tr>\n",
       "            <td>Biology</td>\n",
       "            <td>Watson</td>\n",
       "            <td>90000</td>\n",
       "        </tr>\n",
       "        <tr>\n",
       "            <td>Comp. Sci.</td>\n",
       "            <td>Taylor</td>\n",
       "            <td>100000</td>\n",
       "        </tr>\n",
       "        <tr>\n",
       "            <td>Elec. Eng.</td>\n",
       "            <td>Taylor</td>\n",
       "            <td>85000</td>\n",
       "        </tr>\n",
       "        <tr>\n",
       "            <td>Finance</td>\n",
       "            <td>Painter</td>\n",
       "            <td>120000</td>\n",
       "        </tr>\n",
       "        <tr>\n",
       "            <td>History</td>\n",
       "            <td>Painter</td>\n",
       "            <td>50000</td>\n",
       "        </tr>\n",
       "        <tr>\n",
       "            <td>Music</td>\n",
       "            <td>Packard</td>\n",
       "            <td>80000</td>\n",
       "        </tr>\n",
       "        <tr>\n",
       "            <td>Physics</td>\n",
       "            <td>Watson</td>\n",
       "            <td>70000</td>\n",
       "        </tr>\n",
       "    </tbody>\n",
       "</table>"
      ],
      "text/plain": [
       "[('Biology', 'Watson', 90000),\n",
       " ('Comp. Sci.', 'Taylor', 100000),\n",
       " ('Elec. Eng.', 'Taylor', 85000),\n",
       " ('Finance', 'Painter', 120000),\n",
       " ('History', 'Painter', 50000),\n",
       " ('Music', 'Packard', 80000),\n",
       " ('Physics', 'Watson', 70000)]"
      ]
     },
     "execution_count": 8,
     "metadata": {},
     "output_type": "execute_result"
    }
   ],
   "source": [
    "department"
   ]
  },
  {
   "cell_type": "code",
   "execution_count": null,
   "metadata": {},
   "outputs": [],
   "source": [
    "student = %sql SELECT * FROM student;"
   ]
  },
  {
   "cell_type": "code",
   "execution_count": 10,
   "metadata": {},
   "outputs": [
    {
     "data": {
      "text/html": [
       "<table>\n",
       "    <thead>\n",
       "        <tr>\n",
       "            <th>ID</th>\n",
       "            <th>name</th>\n",
       "            <th>dept_name</th>\n",
       "            <th>tot_cred</th>\n",
       "        </tr>\n",
       "    </thead>\n",
       "    <tbody>\n",
       "        <tr>\n",
       "            <td>00128</td>\n",
       "            <td>Zhang</td>\n",
       "            <td>Comp. Sci.</td>\n",
       "            <td>102</td>\n",
       "        </tr>\n",
       "        <tr>\n",
       "            <td>12345</td>\n",
       "            <td>Shankar</td>\n",
       "            <td>Comp. Sci.</td>\n",
       "            <td>32</td>\n",
       "        </tr>\n",
       "        <tr>\n",
       "            <td>19991</td>\n",
       "            <td>Brandt</td>\n",
       "            <td>History</td>\n",
       "            <td>80</td>\n",
       "        </tr>\n",
       "        <tr>\n",
       "            <td>23121</td>\n",
       "            <td>Chavez</td>\n",
       "            <td>Finance</td>\n",
       "            <td>110</td>\n",
       "        </tr>\n",
       "        <tr>\n",
       "            <td>44553</td>\n",
       "            <td>Peltier</td>\n",
       "            <td>Physics</td>\n",
       "            <td>56</td>\n",
       "        </tr>\n",
       "        <tr>\n",
       "            <td>45678</td>\n",
       "            <td>Levy</td>\n",
       "            <td>Physics</td>\n",
       "            <td>46</td>\n",
       "        </tr>\n",
       "        <tr>\n",
       "            <td>54321</td>\n",
       "            <td>Williams</td>\n",
       "            <td>Comp. Sci.</td>\n",
       "            <td>54</td>\n",
       "        </tr>\n",
       "        <tr>\n",
       "            <td>55739</td>\n",
       "            <td>Sanchez</td>\n",
       "            <td>Music</td>\n",
       "            <td>38</td>\n",
       "        </tr>\n",
       "        <tr>\n",
       "            <td>70557</td>\n",
       "            <td>Snow</td>\n",
       "            <td>Physics</td>\n",
       "            <td>0</td>\n",
       "        </tr>\n",
       "        <tr>\n",
       "            <td>76543</td>\n",
       "            <td>Brown</td>\n",
       "            <td>Comp. Sci.</td>\n",
       "            <td>58</td>\n",
       "        </tr>\n",
       "        <tr>\n",
       "            <td>76653</td>\n",
       "            <td>Aoi</td>\n",
       "            <td>Elec. Eng.</td>\n",
       "            <td>60</td>\n",
       "        </tr>\n",
       "        <tr>\n",
       "            <td>98765</td>\n",
       "            <td>Bourikas</td>\n",
       "            <td>Elec. Eng.</td>\n",
       "            <td>98</td>\n",
       "        </tr>\n",
       "        <tr>\n",
       "            <td>98988</td>\n",
       "            <td>Tanaka</td>\n",
       "            <td>Biology</td>\n",
       "            <td>120</td>\n",
       "        </tr>\n",
       "    </tbody>\n",
       "</table>"
      ],
      "text/plain": [
       "[('00128', 'Zhang', 'Comp. Sci.', 102),\n",
       " ('12345', 'Shankar', 'Comp. Sci.', 32),\n",
       " ('19991', 'Brandt', 'History', 80),\n",
       " ('23121', 'Chavez', 'Finance', 110),\n",
       " ('44553', 'Peltier', 'Physics', 56),\n",
       " ('45678', 'Levy', 'Physics', 46),\n",
       " ('54321', 'Williams', 'Comp. Sci.', 54),\n",
       " ('55739', 'Sanchez', 'Music', 38),\n",
       " ('70557', 'Snow', 'Physics', 0),\n",
       " ('76543', 'Brown', 'Comp. Sci.', 58),\n",
       " ('76653', 'Aoi', 'Elec. Eng.', 60),\n",
       " ('98765', 'Bourikas', 'Elec. Eng.', 98),\n",
       " ('98988', 'Tanaka', 'Biology', 120)]"
      ]
     },
     "execution_count": 10,
     "metadata": {},
     "output_type": "execute_result"
    }
   ],
   "source": [
    "student"
   ]
  },
  {
   "cell_type": "markdown",
   "metadata": {},
   "source": [
    "- Find the list of all students of departments which have a budget < $0.1million"
   ]
  },
  {
   "cell_type": "code",
   "execution_count": null,
   "metadata": {},
   "outputs": [],
   "source": [
    "c_product = %sql SELECT name, budget FROM student, department WHERE student.dept_name = department.dept_name AND budget < 100000;\n"
   ]
  },
  {
   "cell_type": "markdown",
   "metadata": {},
   "source": [
    "```sql\n",
    "SELECT name, budget\n",
    "FROM student, department\n",
    "WHERE student.dept_name = department.dept_name AND budget < 100000;\n",
    "```"
   ]
  },
  {
   "cell_type": "code",
   "execution_count": 12,
   "metadata": {},
   "outputs": [
    {
     "data": {
      "text/html": [
       "<table>\n",
       "    <thead>\n",
       "        <tr>\n",
       "            <th>name</th>\n",
       "            <th>budget</th>\n",
       "        </tr>\n",
       "    </thead>\n",
       "    <tbody>\n",
       "        <tr>\n",
       "            <td>Brandt</td>\n",
       "            <td>50000</td>\n",
       "        </tr>\n",
       "        <tr>\n",
       "            <td>Peltier</td>\n",
       "            <td>70000</td>\n",
       "        </tr>\n",
       "        <tr>\n",
       "            <td>Levy</td>\n",
       "            <td>70000</td>\n",
       "        </tr>\n",
       "        <tr>\n",
       "            <td>Sanchez</td>\n",
       "            <td>80000</td>\n",
       "        </tr>\n",
       "        <tr>\n",
       "            <td>Snow</td>\n",
       "            <td>70000</td>\n",
       "        </tr>\n",
       "        <tr>\n",
       "            <td>Aoi</td>\n",
       "            <td>85000</td>\n",
       "        </tr>\n",
       "        <tr>\n",
       "            <td>Bourikas</td>\n",
       "            <td>85000</td>\n",
       "        </tr>\n",
       "        <tr>\n",
       "            <td>Tanaka</td>\n",
       "            <td>90000</td>\n",
       "        </tr>\n",
       "    </tbody>\n",
       "</table>"
      ],
      "text/plain": [
       "[('Brandt', 50000),\n",
       " ('Peltier', 70000),\n",
       " ('Levy', 70000),\n",
       " ('Sanchez', 80000),\n",
       " ('Snow', 70000),\n",
       " ('Aoi', 85000),\n",
       " ('Bourikas', 85000),\n",
       " ('Tanaka', 90000)]"
      ]
     },
     "execution_count": 12,
     "metadata": {},
     "output_type": "execute_result"
    }
   ],
   "source": [
    "c_product"
   ]
  },
  {
   "cell_type": "markdown",
   "metadata": {},
   "source": [
    "- The above query first generates every possible student-department pair, which is the Cartesian product of the `student` and `department` relations. Then, it filters out all the rows with student.dept_name = department.dept_name **and** department.budget < 100000.\n",
    "- The common attribute `dept_name` in the resulting table is renamed using the relation name - student.dept_name and department.dept_name."
   ]
  },
  {
   "cell_type": "markdown",
   "metadata": {},
   "source": [
    "## Rename AS Operation\n",
    "\n",
    "- The same query above can be framed by renaming the tables as follows:"
   ]
  },
  {
   "cell_type": "code",
   "execution_count": null,
   "metadata": {},
   "outputs": [],
   "source": [
    "rename = %sql SELECT S.name AS studentname, budget AS deptbudget FROM student AS S, department AS D WHERE S.dept_name = D.dept_name AND budget < 100000;"
   ]
  },
  {
   "cell_type": "markdown",
   "metadata": {},
   "source": [
    "```sql\n",
    "SELECT S.name AS studentname, budget AS deptbudget\n",
    "FROM student AS S, department AS D\n",
    "WHERE S.dept_name = D.dept_name AND budget < 100000;\n",
    "```"
   ]
  },
  {
   "cell_type": "code",
   "execution_count": 14,
   "metadata": {},
   "outputs": [
    {
     "data": {
      "text/html": [
       "<table>\n",
       "    <thead>\n",
       "        <tr>\n",
       "            <th>studentname</th>\n",
       "            <th>deptbudget</th>\n",
       "        </tr>\n",
       "    </thead>\n",
       "    <tbody>\n",
       "        <tr>\n",
       "            <td>Brandt</td>\n",
       "            <td>50000</td>\n",
       "        </tr>\n",
       "        <tr>\n",
       "            <td>Peltier</td>\n",
       "            <td>70000</td>\n",
       "        </tr>\n",
       "        <tr>\n",
       "            <td>Levy</td>\n",
       "            <td>70000</td>\n",
       "        </tr>\n",
       "        <tr>\n",
       "            <td>Sanchez</td>\n",
       "            <td>80000</td>\n",
       "        </tr>\n",
       "        <tr>\n",
       "            <td>Snow</td>\n",
       "            <td>70000</td>\n",
       "        </tr>\n",
       "        <tr>\n",
       "            <td>Aoi</td>\n",
       "            <td>85000</td>\n",
       "        </tr>\n",
       "        <tr>\n",
       "            <td>Bourikas</td>\n",
       "            <td>85000</td>\n",
       "        </tr>\n",
       "        <tr>\n",
       "            <td>Tanaka</td>\n",
       "            <td>90000</td>\n",
       "        </tr>\n",
       "    </tbody>\n",
       "</table>"
      ],
      "text/plain": [
       "[('Brandt', 50000),\n",
       " ('Peltier', 70000),\n",
       " ('Levy', 70000),\n",
       " ('Sanchez', 80000),\n",
       " ('Snow', 70000),\n",
       " ('Aoi', 85000),\n",
       " ('Bourikas', 85000),\n",
       " ('Tanaka', 90000)]"
      ]
     },
     "execution_count": 14,
     "metadata": {},
     "output_type": "execute_result"
    }
   ],
   "source": [
    "rename"
   ]
  },
  {
   "cell_type": "markdown",
   "metadata": {},
   "source": [
    "- The above query renames the relations `student` and `department` as `S` and `D` respectively\n",
    "- It also displays the attribute `name` as `StudentName` and `budget` as `DeptBudget`\n",
    "- Note that the budget attribute does not have any prefix because it occurs only in the department relation."
   ]
  },
  {
   "cell_type": "markdown",
   "metadata": {},
   "source": [
    "## Where: AND and OR\n",
    "\n",
    "- From the `instructor` and `department` relations, find out the names of all instructors whose department is Finance *or* whose department is in any of the following buildings: Watson, Taylor."
   ]
  },
  {
   "cell_type": "code",
   "execution_count": null,
   "metadata": {},
   "outputs": [],
   "source": [
    "instructor = %sql SELECT * FROM instructor;"
   ]
  },
  {
   "cell_type": "code",
   "execution_count": 16,
   "metadata": {},
   "outputs": [
    {
     "data": {
      "text/html": [
       "<table>\n",
       "    <thead>\n",
       "        <tr>\n",
       "            <th>ID</th>\n",
       "            <th>name</th>\n",
       "            <th>dept_name</th>\n",
       "            <th>salary</th>\n",
       "        </tr>\n",
       "    </thead>\n",
       "    <tbody>\n",
       "        <tr>\n",
       "            <td>10101</td>\n",
       "            <td>Srinivasan</td>\n",
       "            <td>Comp. Sci.</td>\n",
       "            <td>65000</td>\n",
       "        </tr>\n",
       "        <tr>\n",
       "            <td>12121</td>\n",
       "            <td>Wu</td>\n",
       "            <td>Finance</td>\n",
       "            <td>90000</td>\n",
       "        </tr>\n",
       "        <tr>\n",
       "            <td>15151</td>\n",
       "            <td>Mozart</td>\n",
       "            <td>Music</td>\n",
       "            <td>40000</td>\n",
       "        </tr>\n",
       "        <tr>\n",
       "            <td>22222</td>\n",
       "            <td>Einstein</td>\n",
       "            <td>Physics</td>\n",
       "            <td>95000</td>\n",
       "        </tr>\n",
       "        <tr>\n",
       "            <td>32343</td>\n",
       "            <td>El Said</td>\n",
       "            <td>History</td>\n",
       "            <td>60000</td>\n",
       "        </tr>\n",
       "        <tr>\n",
       "            <td>33456</td>\n",
       "            <td>Gold</td>\n",
       "            <td>Physics</td>\n",
       "            <td>87000</td>\n",
       "        </tr>\n",
       "        <tr>\n",
       "            <td>45565</td>\n",
       "            <td>Katz</td>\n",
       "            <td>Comp. Sci.</td>\n",
       "            <td>75000</td>\n",
       "        </tr>\n",
       "        <tr>\n",
       "            <td>58583</td>\n",
       "            <td>Califieri</td>\n",
       "            <td>History</td>\n",
       "            <td>62000</td>\n",
       "        </tr>\n",
       "        <tr>\n",
       "            <td>76543</td>\n",
       "            <td>Singh</td>\n",
       "            <td>Finance</td>\n",
       "            <td>80000</td>\n",
       "        </tr>\n",
       "        <tr>\n",
       "            <td>76766</td>\n",
       "            <td>Crick</td>\n",
       "            <td>Biology</td>\n",
       "            <td>72000</td>\n",
       "        </tr>\n",
       "        <tr>\n",
       "            <td>83821</td>\n",
       "            <td>Brandt</td>\n",
       "            <td>Comp. Sci.</td>\n",
       "            <td>92000</td>\n",
       "        </tr>\n",
       "        <tr>\n",
       "            <td>98345</td>\n",
       "            <td>Kim</td>\n",
       "            <td>Elec. Eng.</td>\n",
       "            <td>80000</td>\n",
       "        </tr>\n",
       "    </tbody>\n",
       "</table>"
      ],
      "text/plain": [
       "[('10101', 'Srinivasan', 'Comp. Sci.', 65000),\n",
       " ('12121', 'Wu', 'Finance', 90000),\n",
       " ('15151', 'Mozart', 'Music', 40000),\n",
       " ('22222', 'Einstein', 'Physics', 95000),\n",
       " ('32343', 'El Said', 'History', 60000),\n",
       " ('33456', 'Gold', 'Physics', 87000),\n",
       " ('45565', 'Katz', 'Comp. Sci.', 75000),\n",
       " ('58583', 'Califieri', 'History', 62000),\n",
       " ('76543', 'Singh', 'Finance', 80000),\n",
       " ('76766', 'Crick', 'Biology', 72000),\n",
       " ('83821', 'Brandt', 'Comp. Sci.', 92000),\n",
       " ('98345', 'Kim', 'Elec. Eng.', 80000)]"
      ]
     },
     "execution_count": 16,
     "metadata": {},
     "output_type": "execute_result"
    }
   ],
   "source": [
    "instructor"
   ]
  },
  {
   "cell_type": "code",
   "execution_count": 17,
   "metadata": {},
   "outputs": [
    {
     "data": {
      "text/html": [
       "<table>\n",
       "    <thead>\n",
       "        <tr>\n",
       "            <th>dept_name</th>\n",
       "            <th>building</th>\n",
       "            <th>budget</th>\n",
       "        </tr>\n",
       "    </thead>\n",
       "    <tbody>\n",
       "        <tr>\n",
       "            <td>Biology</td>\n",
       "            <td>Watson</td>\n",
       "            <td>90000</td>\n",
       "        </tr>\n",
       "        <tr>\n",
       "            <td>Comp. Sci.</td>\n",
       "            <td>Taylor</td>\n",
       "            <td>100000</td>\n",
       "        </tr>\n",
       "        <tr>\n",
       "            <td>Elec. Eng.</td>\n",
       "            <td>Taylor</td>\n",
       "            <td>85000</td>\n",
       "        </tr>\n",
       "        <tr>\n",
       "            <td>Finance</td>\n",
       "            <td>Painter</td>\n",
       "            <td>120000</td>\n",
       "        </tr>\n",
       "        <tr>\n",
       "            <td>History</td>\n",
       "            <td>Painter</td>\n",
       "            <td>50000</td>\n",
       "        </tr>\n",
       "        <tr>\n",
       "            <td>Music</td>\n",
       "            <td>Packard</td>\n",
       "            <td>80000</td>\n",
       "        </tr>\n",
       "        <tr>\n",
       "            <td>Physics</td>\n",
       "            <td>Watson</td>\n",
       "            <td>70000</td>\n",
       "        </tr>\n",
       "    </tbody>\n",
       "</table>"
      ],
      "text/plain": [
       "[('Biology', 'Watson', 90000),\n",
       " ('Comp. Sci.', 'Taylor', 100000),\n",
       " ('Elec. Eng.', 'Taylor', 85000),\n",
       " ('Finance', 'Painter', 120000),\n",
       " ('History', 'Painter', 50000),\n",
       " ('Music', 'Packard', 80000),\n",
       " ('Physics', 'Watson', 70000)]"
      ]
     },
     "execution_count": 17,
     "metadata": {},
     "output_type": "execute_result"
    }
   ],
   "source": [
    "department"
   ]
  },
  {
   "cell_type": "markdown",
   "metadata": {},
   "source": [
    "```sql\n",
    "SELECT name\n",
    "FROM instructor I, department D\n",
    "WHERE I.dept_name = D.dept_name\n",
    "AND (I.dept_name = 'Finance' OR building IN ('Watson', 'Taylor'));\n",
    "```"
   ]
  },
  {
   "cell_type": "code",
   "execution_count": null,
   "metadata": {},
   "outputs": [],
   "source": [
    "result4 = %sql SELECT name FROM instructor I, department D WHERE I.dept_name = D.dept_name AND (I.dept_name = 'Finance' OR building IN ('Watson', 'Taylor'));"
   ]
  },
  {
   "cell_type": "code",
   "execution_count": 19,
   "metadata": {},
   "outputs": [
    {
     "data": {
      "text/html": [
       "<table>\n",
       "    <thead>\n",
       "        <tr>\n",
       "            <th>name</th>\n",
       "        </tr>\n",
       "    </thead>\n",
       "    <tbody>\n",
       "        <tr>\n",
       "            <td>Srinivasan</td>\n",
       "        </tr>\n",
       "        <tr>\n",
       "            <td>Wu</td>\n",
       "        </tr>\n",
       "        <tr>\n",
       "            <td>Einstein</td>\n",
       "        </tr>\n",
       "        <tr>\n",
       "            <td>Gold</td>\n",
       "        </tr>\n",
       "        <tr>\n",
       "            <td>Katz</td>\n",
       "        </tr>\n",
       "        <tr>\n",
       "            <td>Singh</td>\n",
       "        </tr>\n",
       "        <tr>\n",
       "            <td>Crick</td>\n",
       "        </tr>\n",
       "        <tr>\n",
       "            <td>Brandt</td>\n",
       "        </tr>\n",
       "        <tr>\n",
       "            <td>Kim</td>\n",
       "        </tr>\n",
       "    </tbody>\n",
       "</table>"
      ],
      "text/plain": [
       "[('Srinivasan',),\n",
       " ('Wu',),\n",
       " ('Einstein',),\n",
       " ('Gold',),\n",
       " ('Katz',),\n",
       " ('Singh',),\n",
       " ('Crick',),\n",
       " ('Brandt',),\n",
       " ('Kim',)]"
      ]
     },
     "execution_count": 19,
     "metadata": {},
     "output_type": "execute_result"
    }
   ],
   "source": [
    "result4"
   ]
  },
  {
   "cell_type": "markdown",
   "metadata": {},
   "source": [
    "## String Operations"
   ]
  },
  {
   "cell_type": "code",
   "execution_count": null,
   "metadata": {},
   "outputs": [],
   "source": [
    "course = %sql SELECT * FROM course;"
   ]
  },
  {
   "cell_type": "code",
   "execution_count": 22,
   "metadata": {},
   "outputs": [
    {
     "data": {
      "text/html": [
       "<table>\n",
       "    <thead>\n",
       "        <tr>\n",
       "            <th>course_id</th>\n",
       "            <th>title</th>\n",
       "            <th>dept_name</th>\n",
       "            <th>credits</th>\n",
       "        </tr>\n",
       "    </thead>\n",
       "    <tbody>\n",
       "        <tr>\n",
       "            <td>BIO-101</td>\n",
       "            <td>Intro. to Biology</td>\n",
       "            <td>Biology</td>\n",
       "            <td>4</td>\n",
       "        </tr>\n",
       "        <tr>\n",
       "            <td>BIO-301</td>\n",
       "            <td>Genetics</td>\n",
       "            <td>Biology</td>\n",
       "            <td>4</td>\n",
       "        </tr>\n",
       "        <tr>\n",
       "            <td>BIO-399</td>\n",
       "            <td>Computational Biology</td>\n",
       "            <td>Biology</td>\n",
       "            <td>3</td>\n",
       "        </tr>\n",
       "        <tr>\n",
       "            <td>CS-101</td>\n",
       "            <td>Intro. to Computer Science</td>\n",
       "            <td>Comp. Sci.</td>\n",
       "            <td>4</td>\n",
       "        </tr>\n",
       "        <tr>\n",
       "            <td>CS-190</td>\n",
       "            <td>Game Design</td>\n",
       "            <td>Comp. Sci.</td>\n",
       "            <td>4</td>\n",
       "        </tr>\n",
       "        <tr>\n",
       "            <td>CS-315</td>\n",
       "            <td>Robotics</td>\n",
       "            <td>Comp. Sci.</td>\n",
       "            <td>3</td>\n",
       "        </tr>\n",
       "        <tr>\n",
       "            <td>CS-319</td>\n",
       "            <td>Image Processing</td>\n",
       "            <td>Comp. Sci.</td>\n",
       "            <td>3</td>\n",
       "        </tr>\n",
       "        <tr>\n",
       "            <td>CS-347</td>\n",
       "            <td>Database System Concepts</td>\n",
       "            <td>Comp. Sci.</td>\n",
       "            <td>3</td>\n",
       "        </tr>\n",
       "        <tr>\n",
       "            <td>EE-181</td>\n",
       "            <td>Intro. to Digital Systems</td>\n",
       "            <td>Elec. Eng.</td>\n",
       "            <td>3</td>\n",
       "        </tr>\n",
       "        <tr>\n",
       "            <td>FIN-201</td>\n",
       "            <td>Investment Banking</td>\n",
       "            <td>Finance</td>\n",
       "            <td>3</td>\n",
       "        </tr>\n",
       "        <tr>\n",
       "            <td>HIS-351</td>\n",
       "            <td>World History</td>\n",
       "            <td>History</td>\n",
       "            <td>3</td>\n",
       "        </tr>\n",
       "        <tr>\n",
       "            <td>MU-199</td>\n",
       "            <td>Music Video Production</td>\n",
       "            <td>Music</td>\n",
       "            <td>3</td>\n",
       "        </tr>\n",
       "        <tr>\n",
       "            <td>PHY-101</td>\n",
       "            <td>Physical Principles</td>\n",
       "            <td>Physics</td>\n",
       "            <td>4</td>\n",
       "        </tr>\n",
       "    </tbody>\n",
       "</table>"
      ],
      "text/plain": [
       "[('BIO-101', 'Intro. to Biology', 'Biology', 4),\n",
       " ('BIO-301', 'Genetics', 'Biology', 4),\n",
       " ('BIO-399', 'Computational Biology', 'Biology', 3),\n",
       " ('CS-101', 'Intro. to Computer Science', 'Comp. Sci.', 4),\n",
       " ('CS-190', 'Game Design', 'Comp. Sci.', 4),\n",
       " ('CS-315', 'Robotics', 'Comp. Sci.', 3),\n",
       " ('CS-319', 'Image Processing', 'Comp. Sci.', 3),\n",
       " ('CS-347', 'Database System Concepts', 'Comp. Sci.', 3),\n",
       " ('EE-181', 'Intro. to Digital Systems', 'Elec. Eng.', 3),\n",
       " ('FIN-201', 'Investment Banking', 'Finance', 3),\n",
       " ('HIS-351', 'World History', 'History', 3),\n",
       " ('MU-199', 'Music Video Production', 'Music', 3),\n",
       " ('PHY-101', 'Physical Principles', 'Physics', 4)]"
      ]
     },
     "execution_count": 22,
     "metadata": {},
     "output_type": "execute_result"
    }
   ],
   "source": [
    "course"
   ]
  },
  {
   "cell_type": "markdown",
   "metadata": {},
   "source": [
    "- From the course `relation`, find the titles of all courses whose `course_id` has three alphabets indicating the department."
   ]
  },
  {
   "cell_type": "code",
   "execution_count": null,
   "metadata": {},
   "outputs": [],
   "source": [
    "result5 = %sql SELECT title FROM course WHERE course_id LIKE '___-%';"
   ]
  },
  {
   "cell_type": "markdown",
   "metadata": {},
   "source": [
    "```sql\n",
    "SELECT title\n",
    "FROM course\n",
    "WHERE course_id LIKE '___-%';\n",
    "```"
   ]
  },
  {
   "cell_type": "code",
   "execution_count": 27,
   "metadata": {},
   "outputs": [
    {
     "data": {
      "text/html": [
       "<table>\n",
       "    <thead>\n",
       "        <tr>\n",
       "            <th>title</th>\n",
       "        </tr>\n",
       "    </thead>\n",
       "    <tbody>\n",
       "        <tr>\n",
       "            <td>Intro. to Biology</td>\n",
       "        </tr>\n",
       "        <tr>\n",
       "            <td>Genetics</td>\n",
       "        </tr>\n",
       "        <tr>\n",
       "            <td>Computational Biology</td>\n",
       "        </tr>\n",
       "        <tr>\n",
       "            <td>Investment Banking</td>\n",
       "        </tr>\n",
       "        <tr>\n",
       "            <td>World History</td>\n",
       "        </tr>\n",
       "        <tr>\n",
       "            <td>Physical Principles</td>\n",
       "        </tr>\n",
       "    </tbody>\n",
       "</table>"
      ],
      "text/plain": [
       "[('Intro. to Biology',),\n",
       " ('Genetics',),\n",
       " ('Computational Biology',),\n",
       " ('Investment Banking',),\n",
       " ('World History',),\n",
       " ('Physical Principles',)]"
      ]
     },
     "execution_count": 27,
     "metadata": {},
     "output_type": "execute_result"
    }
   ],
   "source": [
    "result5"
   ]
  },
  {
   "cell_type": "markdown",
   "metadata": {},
   "source": [
    "- The `course_id` of each department either has 2 or 3 alphabets in the beginning, followed by a hypher and then followed by 3 digits. The above query returns the names of all courses whose `course_id` has 3 alphabets in the beginning."
   ]
  },
  {
   "cell_type": "markdown",
   "metadata": {},
   "source": [
    "## Order By"
   ]
  },
  {
   "cell_type": "code",
   "execution_count": 23,
   "metadata": {},
   "outputs": [
    {
     "data": {
      "text/html": [
       "<table>\n",
       "    <thead>\n",
       "        <tr>\n",
       "            <th>ID</th>\n",
       "            <th>name</th>\n",
       "            <th>dept_name</th>\n",
       "            <th>tot_cred</th>\n",
       "        </tr>\n",
       "    </thead>\n",
       "    <tbody>\n",
       "        <tr>\n",
       "            <td>00128</td>\n",
       "            <td>Zhang</td>\n",
       "            <td>Comp. Sci.</td>\n",
       "            <td>102</td>\n",
       "        </tr>\n",
       "        <tr>\n",
       "            <td>12345</td>\n",
       "            <td>Shankar</td>\n",
       "            <td>Comp. Sci.</td>\n",
       "            <td>32</td>\n",
       "        </tr>\n",
       "        <tr>\n",
       "            <td>19991</td>\n",
       "            <td>Brandt</td>\n",
       "            <td>History</td>\n",
       "            <td>80</td>\n",
       "        </tr>\n",
       "        <tr>\n",
       "            <td>23121</td>\n",
       "            <td>Chavez</td>\n",
       "            <td>Finance</td>\n",
       "            <td>110</td>\n",
       "        </tr>\n",
       "        <tr>\n",
       "            <td>44553</td>\n",
       "            <td>Peltier</td>\n",
       "            <td>Physics</td>\n",
       "            <td>56</td>\n",
       "        </tr>\n",
       "        <tr>\n",
       "            <td>45678</td>\n",
       "            <td>Levy</td>\n",
       "            <td>Physics</td>\n",
       "            <td>46</td>\n",
       "        </tr>\n",
       "        <tr>\n",
       "            <td>54321</td>\n",
       "            <td>Williams</td>\n",
       "            <td>Comp. Sci.</td>\n",
       "            <td>54</td>\n",
       "        </tr>\n",
       "        <tr>\n",
       "            <td>55739</td>\n",
       "            <td>Sanchez</td>\n",
       "            <td>Music</td>\n",
       "            <td>38</td>\n",
       "        </tr>\n",
       "        <tr>\n",
       "            <td>70557</td>\n",
       "            <td>Snow</td>\n",
       "            <td>Physics</td>\n",
       "            <td>0</td>\n",
       "        </tr>\n",
       "        <tr>\n",
       "            <td>76543</td>\n",
       "            <td>Brown</td>\n",
       "            <td>Comp. Sci.</td>\n",
       "            <td>58</td>\n",
       "        </tr>\n",
       "        <tr>\n",
       "            <td>76653</td>\n",
       "            <td>Aoi</td>\n",
       "            <td>Elec. Eng.</td>\n",
       "            <td>60</td>\n",
       "        </tr>\n",
       "        <tr>\n",
       "            <td>98765</td>\n",
       "            <td>Bourikas</td>\n",
       "            <td>Elec. Eng.</td>\n",
       "            <td>98</td>\n",
       "        </tr>\n",
       "        <tr>\n",
       "            <td>98988</td>\n",
       "            <td>Tanaka</td>\n",
       "            <td>Biology</td>\n",
       "            <td>120</td>\n",
       "        </tr>\n",
       "    </tbody>\n",
       "</table>"
      ],
      "text/plain": [
       "[('00128', 'Zhang', 'Comp. Sci.', 102),\n",
       " ('12345', 'Shankar', 'Comp. Sci.', 32),\n",
       " ('19991', 'Brandt', 'History', 80),\n",
       " ('23121', 'Chavez', 'Finance', 110),\n",
       " ('44553', 'Peltier', 'Physics', 56),\n",
       " ('45678', 'Levy', 'Physics', 46),\n",
       " ('54321', 'Williams', 'Comp. Sci.', 54),\n",
       " ('55739', 'Sanchez', 'Music', 38),\n",
       " ('70557', 'Snow', 'Physics', 0),\n",
       " ('76543', 'Brown', 'Comp. Sci.', 58),\n",
       " ('76653', 'Aoi', 'Elec. Eng.', 60),\n",
       " ('98765', 'Bourikas', 'Elec. Eng.', 98),\n",
       " ('98988', 'Tanaka', 'Biology', 120)]"
      ]
     },
     "execution_count": 23,
     "metadata": {},
     "output_type": "execute_result"
    }
   ],
   "source": [
    "student"
   ]
  },
  {
   "cell_type": "markdown",
   "metadata": {},
   "source": [
    "- From the student relation in the table, obtain the list of all students in alphabetic order of departments and within each department, in decreasing order of total credits."
   ]
  },
  {
   "cell_type": "code",
   "execution_count": null,
   "metadata": {},
   "outputs": [],
   "source": [
    "result6 = %sql SELECT name, dept_name, tot_cred FROM student ORDER BY dept_name ASC, tot_cred DESC;"
   ]
  },
  {
   "cell_type": "markdown",
   "metadata": {},
   "source": [
    "```sql\n",
    "SELECT name, dept_name, tot_cred\n",
    "FROM student\n",
    "ORDER BY dept_name ASC, tot_cred DESC;\n",
    "```"
   ]
  },
  {
   "cell_type": "code",
   "execution_count": 29,
   "metadata": {},
   "outputs": [
    {
     "data": {
      "text/html": [
       "<table>\n",
       "    <thead>\n",
       "        <tr>\n",
       "            <th>name</th>\n",
       "            <th>dept_name</th>\n",
       "            <th>tot_cred</th>\n",
       "        </tr>\n",
       "    </thead>\n",
       "    <tbody>\n",
       "        <tr>\n",
       "            <td>Tanaka</td>\n",
       "            <td>Biology</td>\n",
       "            <td>120</td>\n",
       "        </tr>\n",
       "        <tr>\n",
       "            <td>Zhang</td>\n",
       "            <td>Comp. Sci.</td>\n",
       "            <td>102</td>\n",
       "        </tr>\n",
       "        <tr>\n",
       "            <td>Brown</td>\n",
       "            <td>Comp. Sci.</td>\n",
       "            <td>58</td>\n",
       "        </tr>\n",
       "        <tr>\n",
       "            <td>Williams</td>\n",
       "            <td>Comp. Sci.</td>\n",
       "            <td>54</td>\n",
       "        </tr>\n",
       "        <tr>\n",
       "            <td>Shankar</td>\n",
       "            <td>Comp. Sci.</td>\n",
       "            <td>32</td>\n",
       "        </tr>\n",
       "        <tr>\n",
       "            <td>Bourikas</td>\n",
       "            <td>Elec. Eng.</td>\n",
       "            <td>98</td>\n",
       "        </tr>\n",
       "        <tr>\n",
       "            <td>Aoi</td>\n",
       "            <td>Elec. Eng.</td>\n",
       "            <td>60</td>\n",
       "        </tr>\n",
       "        <tr>\n",
       "            <td>Chavez</td>\n",
       "            <td>Finance</td>\n",
       "            <td>110</td>\n",
       "        </tr>\n",
       "        <tr>\n",
       "            <td>Brandt</td>\n",
       "            <td>History</td>\n",
       "            <td>80</td>\n",
       "        </tr>\n",
       "        <tr>\n",
       "            <td>Sanchez</td>\n",
       "            <td>Music</td>\n",
       "            <td>38</td>\n",
       "        </tr>\n",
       "        <tr>\n",
       "            <td>Peltier</td>\n",
       "            <td>Physics</td>\n",
       "            <td>56</td>\n",
       "        </tr>\n",
       "        <tr>\n",
       "            <td>Levy</td>\n",
       "            <td>Physics</td>\n",
       "            <td>46</td>\n",
       "        </tr>\n",
       "        <tr>\n",
       "            <td>Snow</td>\n",
       "            <td>Physics</td>\n",
       "            <td>0</td>\n",
       "        </tr>\n",
       "    </tbody>\n",
       "</table>"
      ],
      "text/plain": [
       "[('Tanaka', 'Biology', 120),\n",
       " ('Zhang', 'Comp. Sci.', 102),\n",
       " ('Brown', 'Comp. Sci.', 58),\n",
       " ('Williams', 'Comp. Sci.', 54),\n",
       " ('Shankar', 'Comp. Sci.', 32),\n",
       " ('Bourikas', 'Elec. Eng.', 98),\n",
       " ('Aoi', 'Elec. Eng.', 60),\n",
       " ('Chavez', 'Finance', 110),\n",
       " ('Brandt', 'History', 80),\n",
       " ('Sanchez', 'Music', 38),\n",
       " ('Peltier', 'Physics', 56),\n",
       " ('Levy', 'Physics', 46),\n",
       " ('Snow', 'Physics', 0)]"
      ]
     },
     "execution_count": 29,
     "metadata": {},
     "output_type": "execute_result"
    }
   ],
   "source": [
    "result6"
   ]
  },
  {
   "cell_type": "markdown",
   "metadata": {},
   "source": [
    "- The list is first sorted in alphabetic order of dept name.\n",
    "- Within each dept, it is sorted in decreasing order of total credits."
   ]
  },
  {
   "cell_type": "markdown",
   "metadata": {},
   "source": [
    "## In Operator"
   ]
  },
  {
   "cell_type": "code",
   "execution_count": null,
   "metadata": {},
   "outputs": [],
   "source": [
    "teaches = %sql SELECT * FROM teaches;"
   ]
  },
  {
   "cell_type": "code",
   "execution_count": 25,
   "metadata": {},
   "outputs": [
    {
     "data": {
      "text/html": [
       "<table>\n",
       "    <thead>\n",
       "        <tr>\n",
       "            <th>ID</th>\n",
       "            <th>course_id</th>\n",
       "            <th>sec_id</th>\n",
       "            <th>semester</th>\n",
       "            <th>year</th>\n",
       "        </tr>\n",
       "    </thead>\n",
       "    <tbody>\n",
       "        <tr>\n",
       "            <td>10101</td>\n",
       "            <td>CS-101</td>\n",
       "            <td>1</td>\n",
       "            <td>Fall</td>\n",
       "            <td>2017</td>\n",
       "        </tr>\n",
       "        <tr>\n",
       "            <td>10101</td>\n",
       "            <td>CS-315</td>\n",
       "            <td>1</td>\n",
       "            <td>Spring</td>\n",
       "            <td>2018</td>\n",
       "        </tr>\n",
       "        <tr>\n",
       "            <td>10101</td>\n",
       "            <td>CS-347</td>\n",
       "            <td>1</td>\n",
       "            <td>Fall</td>\n",
       "            <td>2017</td>\n",
       "        </tr>\n",
       "        <tr>\n",
       "            <td>12121</td>\n",
       "            <td>FIN-201</td>\n",
       "            <td>1</td>\n",
       "            <td>Spring</td>\n",
       "            <td>2018</td>\n",
       "        </tr>\n",
       "        <tr>\n",
       "            <td>15151</td>\n",
       "            <td>MU-199</td>\n",
       "            <td>1</td>\n",
       "            <td>Spring</td>\n",
       "            <td>2018</td>\n",
       "        </tr>\n",
       "        <tr>\n",
       "            <td>22222</td>\n",
       "            <td>PHY-101</td>\n",
       "            <td>1</td>\n",
       "            <td>Fall</td>\n",
       "            <td>2017</td>\n",
       "        </tr>\n",
       "        <tr>\n",
       "            <td>32343</td>\n",
       "            <td>HIS-351</td>\n",
       "            <td>1</td>\n",
       "            <td>Spring</td>\n",
       "            <td>2018</td>\n",
       "        </tr>\n",
       "        <tr>\n",
       "            <td>45565</td>\n",
       "            <td>CS-101</td>\n",
       "            <td>1</td>\n",
       "            <td>Spring</td>\n",
       "            <td>2018</td>\n",
       "        </tr>\n",
       "        <tr>\n",
       "            <td>45565</td>\n",
       "            <td>CS-319</td>\n",
       "            <td>1</td>\n",
       "            <td>Spring</td>\n",
       "            <td>2018</td>\n",
       "        </tr>\n",
       "        <tr>\n",
       "            <td>76766</td>\n",
       "            <td>BIO-101</td>\n",
       "            <td>1</td>\n",
       "            <td>Summer</td>\n",
       "            <td>2017</td>\n",
       "        </tr>\n",
       "        <tr>\n",
       "            <td>76766</td>\n",
       "            <td>BIO-301</td>\n",
       "            <td>1</td>\n",
       "            <td>Summer</td>\n",
       "            <td>2018</td>\n",
       "        </tr>\n",
       "        <tr>\n",
       "            <td>83821</td>\n",
       "            <td>CS-190</td>\n",
       "            <td>1</td>\n",
       "            <td>Spring</td>\n",
       "            <td>2017</td>\n",
       "        </tr>\n",
       "        <tr>\n",
       "            <td>83821</td>\n",
       "            <td>CS-190</td>\n",
       "            <td>2</td>\n",
       "            <td>Spring</td>\n",
       "            <td>2017</td>\n",
       "        </tr>\n",
       "        <tr>\n",
       "            <td>83821</td>\n",
       "            <td>CS-319</td>\n",
       "            <td>2</td>\n",
       "            <td>Spring</td>\n",
       "            <td>2018</td>\n",
       "        </tr>\n",
       "        <tr>\n",
       "            <td>98345</td>\n",
       "            <td>EE-181</td>\n",
       "            <td>1</td>\n",
       "            <td>Spring</td>\n",
       "            <td>2017</td>\n",
       "        </tr>\n",
       "    </tbody>\n",
       "</table>"
      ],
      "text/plain": [
       "[('10101', 'CS-101', '1', 'Fall', 2017),\n",
       " ('10101', 'CS-315', '1', 'Spring', 2018),\n",
       " ('10101', 'CS-347', '1', 'Fall', 2017),\n",
       " ('12121', 'FIN-201', '1', 'Spring', 2018),\n",
       " ('15151', 'MU-199', '1', 'Spring', 2018),\n",
       " ('22222', 'PHY-101', '1', 'Fall', 2017),\n",
       " ('32343', 'HIS-351', '1', 'Spring', 2018),\n",
       " ('45565', 'CS-101', '1', 'Spring', 2018),\n",
       " ('45565', 'CS-319', '1', 'Spring', 2018),\n",
       " ('76766', 'BIO-101', '1', 'Summer', 2017),\n",
       " ('76766', 'BIO-301', '1', 'Summer', 2018),\n",
       " ('83821', 'CS-190', '1', 'Spring', 2017),\n",
       " ('83821', 'CS-190', '2', 'Spring', 2017),\n",
       " ('83821', 'CS-319', '2', 'Spring', 2018),\n",
       " ('98345', 'EE-181', '1', 'Spring', 2017)]"
      ]
     },
     "execution_count": 25,
     "metadata": {},
     "output_type": "execute_result"
    }
   ],
   "source": [
    "teaches"
   ]
  },
  {
   "cell_type": "markdown",
   "metadata": {},
   "source": [
    "- From the `teaches` relation, find the IDs of all courses taught in the Fall or Spring of 2018."
   ]
  },
  {
   "cell_type": "code",
   "execution_count": null,
   "metadata": {},
   "outputs": [],
   "source": [
    "result7 = %sql SELECT course_id FROM teaches WHERE semester IN ('Fall', 'Spring') AND year = 2018;"
   ]
  },
  {
   "cell_type": "markdown",
   "metadata": {},
   "source": [
    "```sql\n",
    "SELECT course_id\n",
    "FROM teaches\n",
    "WHERE semester IN ('Fall', 'Spring') AND year = 2018;\n",
    "```"
   ]
  },
  {
   "cell_type": "code",
   "execution_count": 31,
   "metadata": {},
   "outputs": [
    {
     "data": {
      "text/html": [
       "<table>\n",
       "    <thead>\n",
       "        <tr>\n",
       "            <th>course_id</th>\n",
       "        </tr>\n",
       "    </thead>\n",
       "    <tbody>\n",
       "        <tr>\n",
       "            <td>CS-315</td>\n",
       "        </tr>\n",
       "        <tr>\n",
       "            <td>FIN-201</td>\n",
       "        </tr>\n",
       "        <tr>\n",
       "            <td>MU-199</td>\n",
       "        </tr>\n",
       "        <tr>\n",
       "            <td>HIS-351</td>\n",
       "        </tr>\n",
       "        <tr>\n",
       "            <td>CS-101</td>\n",
       "        </tr>\n",
       "        <tr>\n",
       "            <td>CS-319</td>\n",
       "        </tr>\n",
       "        <tr>\n",
       "            <td>CS-319</td>\n",
       "        </tr>\n",
       "    </tbody>\n",
       "</table>"
      ],
      "text/plain": [
       "[('CS-315',),\n",
       " ('FIN-201',),\n",
       " ('MU-199',),\n",
       " ('HIS-351',),\n",
       " ('CS-101',),\n",
       " ('CS-319',),\n",
       " ('CS-319',)]"
      ]
     },
     "execution_count": 31,
     "metadata": {},
     "output_type": "execute_result"
    }
   ],
   "source": [
    "result7"
   ]
  },
  {
   "cell_type": "markdown",
   "metadata": {},
   "source": [
    "- Note: We can use `distinct` to remove duplicates."
   ]
  },
  {
   "cell_type": "code",
   "execution_count": null,
   "metadata": {},
   "outputs": [],
   "source": [
    "result8 = %sql SELECT DISTINCT course_id FROM teaches WHERE semester IN ('Fall', 'Spring') AND year = 2018;"
   ]
  },
  {
   "cell_type": "markdown",
   "metadata": {},
   "source": [
    "```sql\n",
    "    SELECT DISTINCT course_id\n",
    "    FROM teaches\n",
    "    WHERE semester IN ('Fall', 'Spring') AND year = 2018;\n",
    "```"
   ]
  },
  {
   "cell_type": "code",
   "execution_count": 33,
   "metadata": {},
   "outputs": [
    {
     "data": {
      "text/html": [
       "<table>\n",
       "    <thead>\n",
       "        <tr>\n",
       "            <th>course_id</th>\n",
       "        </tr>\n",
       "    </thead>\n",
       "    <tbody>\n",
       "        <tr>\n",
       "            <td>CS-315</td>\n",
       "        </tr>\n",
       "        <tr>\n",
       "            <td>FIN-201</td>\n",
       "        </tr>\n",
       "        <tr>\n",
       "            <td>MU-199</td>\n",
       "        </tr>\n",
       "        <tr>\n",
       "            <td>HIS-351</td>\n",
       "        </tr>\n",
       "        <tr>\n",
       "            <td>CS-101</td>\n",
       "        </tr>\n",
       "        <tr>\n",
       "            <td>CS-319</td>\n",
       "        </tr>\n",
       "    </tbody>\n",
       "</table>"
      ],
      "text/plain": [
       "[('CS-315',),\n",
       " ('FIN-201',),\n",
       " ('MU-199',),\n",
       " ('HIS-351',),\n",
       " ('CS-101',),\n",
       " ('CS-319',)]"
      ]
     },
     "execution_count": 33,
     "metadata": {},
     "output_type": "execute_result"
    }
   ],
   "source": [
    "result8"
   ]
  },
  {
   "cell_type": "markdown",
   "metadata": {},
   "source": [
    "# Set Operations: union\n",
    "\n",
    "- For the same question as above, find the solution using the `union` operator."
   ]
  },
  {
   "cell_type": "markdown",
   "metadata": {},
   "source": [
    "```sql\n",
    "SELECT course_id\n",
    "from teaches\n",
    "WHERE semester='Fall' AND year=2018\n",
    "UNION\n",
    "SELECT course_id\n",
    "from teaches\n",
    "WHERE semester='Spring' AND year=2018;\n",
    "```"
   ]
  },
  {
   "cell_type": "code",
   "execution_count": null,
   "metadata": {},
   "outputs": [],
   "source": [
    "result9 = %sql SELECT course_id from teaches WHERE semester='Fall' AND year=2018 UNION SELECT course_id from teaches WHERE semester='Spring' AND year=2018"
   ]
  },
  {
   "cell_type": "code",
   "execution_count": 35,
   "metadata": {},
   "outputs": [
    {
     "data": {
      "text/html": [
       "<table>\n",
       "    <thead>\n",
       "        <tr>\n",
       "            <th>course_id</th>\n",
       "        </tr>\n",
       "    </thead>\n",
       "    <tbody>\n",
       "        <tr>\n",
       "            <td>CS-101</td>\n",
       "        </tr>\n",
       "        <tr>\n",
       "            <td>CS-315</td>\n",
       "        </tr>\n",
       "        <tr>\n",
       "            <td>CS-319</td>\n",
       "        </tr>\n",
       "        <tr>\n",
       "            <td>FIN-201</td>\n",
       "        </tr>\n",
       "        <tr>\n",
       "            <td>HIS-351</td>\n",
       "        </tr>\n",
       "        <tr>\n",
       "            <td>MU-199</td>\n",
       "        </tr>\n",
       "    </tbody>\n",
       "</table>"
      ],
      "text/plain": [
       "[('CS-101',),\n",
       " ('CS-315',),\n",
       " ('CS-319',),\n",
       " ('FIN-201',),\n",
       " ('HIS-351',),\n",
       " ('MU-199',)]"
      ]
     },
     "execution_count": 35,
     "metadata": {},
     "output_type": "execute_result"
    }
   ],
   "source": [
    "result9"
   ]
  },
  {
   "cell_type": "markdown",
   "metadata": {},
   "source": [
    "- Note that `union` removes all duplicates. If we use `union all` instead of `union`, we get the same set of tuples but with duplicates."
   ]
  },
  {
   "cell_type": "markdown",
   "metadata": {},
   "source": [
    "## Set Operations (2): intersect"
   ]
  },
  {
   "cell_type": "code",
   "execution_count": 36,
   "metadata": {},
   "outputs": [
    {
     "data": {
      "text/html": [
       "<table>\n",
       "    <thead>\n",
       "        <tr>\n",
       "            <th>ID</th>\n",
       "            <th>name</th>\n",
       "            <th>dept_name</th>\n",
       "            <th>salary</th>\n",
       "        </tr>\n",
       "    </thead>\n",
       "    <tbody>\n",
       "        <tr>\n",
       "            <td>10101</td>\n",
       "            <td>Srinivasan</td>\n",
       "            <td>Comp. Sci.</td>\n",
       "            <td>65000</td>\n",
       "        </tr>\n",
       "        <tr>\n",
       "            <td>12121</td>\n",
       "            <td>Wu</td>\n",
       "            <td>Finance</td>\n",
       "            <td>90000</td>\n",
       "        </tr>\n",
       "        <tr>\n",
       "            <td>15151</td>\n",
       "            <td>Mozart</td>\n",
       "            <td>Music</td>\n",
       "            <td>40000</td>\n",
       "        </tr>\n",
       "        <tr>\n",
       "            <td>22222</td>\n",
       "            <td>Einstein</td>\n",
       "            <td>Physics</td>\n",
       "            <td>95000</td>\n",
       "        </tr>\n",
       "        <tr>\n",
       "            <td>32343</td>\n",
       "            <td>El Said</td>\n",
       "            <td>History</td>\n",
       "            <td>60000</td>\n",
       "        </tr>\n",
       "        <tr>\n",
       "            <td>33456</td>\n",
       "            <td>Gold</td>\n",
       "            <td>Physics</td>\n",
       "            <td>87000</td>\n",
       "        </tr>\n",
       "        <tr>\n",
       "            <td>45565</td>\n",
       "            <td>Katz</td>\n",
       "            <td>Comp. Sci.</td>\n",
       "            <td>75000</td>\n",
       "        </tr>\n",
       "        <tr>\n",
       "            <td>58583</td>\n",
       "            <td>Califieri</td>\n",
       "            <td>History</td>\n",
       "            <td>62000</td>\n",
       "        </tr>\n",
       "        <tr>\n",
       "            <td>76543</td>\n",
       "            <td>Singh</td>\n",
       "            <td>Finance</td>\n",
       "            <td>80000</td>\n",
       "        </tr>\n",
       "        <tr>\n",
       "            <td>76766</td>\n",
       "            <td>Crick</td>\n",
       "            <td>Biology</td>\n",
       "            <td>72000</td>\n",
       "        </tr>\n",
       "        <tr>\n",
       "            <td>83821</td>\n",
       "            <td>Brandt</td>\n",
       "            <td>Comp. Sci.</td>\n",
       "            <td>92000</td>\n",
       "        </tr>\n",
       "        <tr>\n",
       "            <td>98345</td>\n",
       "            <td>Kim</td>\n",
       "            <td>Elec. Eng.</td>\n",
       "            <td>80000</td>\n",
       "        </tr>\n",
       "    </tbody>\n",
       "</table>"
      ],
      "text/plain": [
       "[('10101', 'Srinivasan', 'Comp. Sci.', 65000),\n",
       " ('12121', 'Wu', 'Finance', 90000),\n",
       " ('15151', 'Mozart', 'Music', 40000),\n",
       " ('22222', 'Einstein', 'Physics', 95000),\n",
       " ('32343', 'El Said', 'History', 60000),\n",
       " ('33456', 'Gold', 'Physics', 87000),\n",
       " ('45565', 'Katz', 'Comp. Sci.', 75000),\n",
       " ('58583', 'Califieri', 'History', 62000),\n",
       " ('76543', 'Singh', 'Finance', 80000),\n",
       " ('76766', 'Crick', 'Biology', 72000),\n",
       " ('83821', 'Brandt', 'Comp. Sci.', 92000),\n",
       " ('98345', 'Kim', 'Elec. Eng.', 80000)]"
      ]
     },
     "execution_count": 36,
     "metadata": {},
     "output_type": "execute_result"
    }
   ],
   "source": [
    "instructor"
   ]
  },
  {
   "cell_type": "markdown",
   "metadata": {},
   "source": [
    "- From the `instructor` relation, find the names of all instructors who taught in either the Computer Science department or the Finance department and whose salary is < 80000."
   ]
  },
  {
   "cell_type": "markdown",
   "metadata": {},
   "source": [
    "```sql\n",
    "    SELECT name\n",
    "    FROM instructor\n",
    "    WHERE dept_name IN ('Comp. Sci.', 'Finance')\n",
    "    INTERSECT\n",
    "    SELECT name\n",
    "    FROM instructor\n",
    "    WHERE salary < 80000;\n",
    "```"
   ]
  },
  {
   "cell_type": "code",
   "execution_count": null,
   "metadata": {},
   "outputs": [],
   "source": [
    "result10 = %sql SELECT name FROM instructor WHERE dept_name IN ('Comp. Sci.', 'Finance') INTERSECT SELECT name FROM instructor WHERE salary < 80000;"
   ]
  },
  {
   "cell_type": "code",
   "execution_count": 38,
   "metadata": {},
   "outputs": [
    {
     "data": {
      "text/html": [
       "<table>\n",
       "    <thead>\n",
       "        <tr>\n",
       "            <th>name</th>\n",
       "        </tr>\n",
       "    </thead>\n",
       "    <tbody>\n",
       "        <tr>\n",
       "            <td>Katz</td>\n",
       "        </tr>\n",
       "        <tr>\n",
       "            <td>Srinivasan</td>\n",
       "        </tr>\n",
       "    </tbody>\n",
       "</table>"
      ],
      "text/plain": [
       "[('Katz',), ('Srinivasan',)]"
      ]
     },
     "execution_count": 38,
     "metadata": {},
     "output_type": "execute_result"
    }
   ],
   "source": [
    "result10"
   ]
  },
  {
   "cell_type": "markdown",
   "metadata": {},
   "source": [
    "```sql\n",
    "SELECT name\n",
    "FROM instructor\n",
    "WHERE dept_name IN ('Comp. Sci.', 'Finance') AND salary < 80000;\n",
    "```"
   ]
  },
  {
   "cell_type": "code",
   "execution_count": null,
   "metadata": {},
   "outputs": [],
   "source": [
    "result11 = %sql SELECT name FROM instructor WHERE dept_name IN ('Comp. Sci.', 'Finance') AND salary < 80000;"
   ]
  },
  {
   "cell_type": "code",
   "execution_count": 40,
   "metadata": {},
   "outputs": [
    {
     "data": {
      "text/html": [
       "<table>\n",
       "    <thead>\n",
       "        <tr>\n",
       "            <th>name</th>\n",
       "        </tr>\n",
       "    </thead>\n",
       "    <tbody>\n",
       "        <tr>\n",
       "            <td>Srinivasan</td>\n",
       "        </tr>\n",
       "        <tr>\n",
       "            <td>Katz</td>\n",
       "        </tr>\n",
       "    </tbody>\n",
       "</table>"
      ],
      "text/plain": [
       "[('Srinivasan',), ('Katz',)]"
      ]
     },
     "execution_count": 40,
     "metadata": {},
     "output_type": "execute_result"
    }
   ],
   "source": [
    "result11"
   ]
  },
  {
   "cell_type": "markdown",
   "metadata": {},
   "source": [
    "## Set Operations (3): except\n",
    "\n",
    "- From the `instructor` relation, find the names of all instructors who taught in the Computer Science department or the Finance department and whose salary is either >= 90000 or <= 70000."
   ]
  },
  {
   "cell_type": "markdown",
   "metadata": {},
   "source": [
    "```sql\n",
    "    SELECT name\n",
    "    FROM instructor\n",
    "    WHERE dept_name IN ('Comp. Sci.', 'Finance')\n",
    "    EXCEPT\n",
    "    SELECT name\n",
    "    FROM instructor\n",
    "    WHERE salary < 90000 AND salary > 70000;\n",
    "```"
   ]
  },
  {
   "cell_type": "code",
   "execution_count": null,
   "metadata": {},
   "outputs": [],
   "source": [
    "result12 = %sql SELECT name FROM instructor WHERE dept_name IN ('Comp. Sci.', 'Finance') EXCEPT SELECT name FROM instructor WHERE salary < 90000 AND salary > 70000;"
   ]
  },
  {
   "cell_type": "code",
   "execution_count": 42,
   "metadata": {},
   "outputs": [
    {
     "data": {
      "text/html": [
       "<table>\n",
       "    <thead>\n",
       "        <tr>\n",
       "            <th>name</th>\n",
       "        </tr>\n",
       "    </thead>\n",
       "    <tbody>\n",
       "        <tr>\n",
       "            <td>Brandt</td>\n",
       "        </tr>\n",
       "        <tr>\n",
       "            <td>Srinivasan</td>\n",
       "        </tr>\n",
       "        <tr>\n",
       "            <td>Wu</td>\n",
       "        </tr>\n",
       "    </tbody>\n",
       "</table>"
      ],
      "text/plain": [
       "[('Brandt',), ('Srinivasan',), ('Wu',)]"
      ]
     },
     "execution_count": 42,
     "metadata": {},
     "output_type": "execute_result"
    }
   ],
   "source": [
    "result12"
   ]
  },
  {
   "cell_type": "markdown",
   "metadata": {},
   "source": [
    "```sql\n",
    "SELECT name\n",
    "FROM instructor\n",
    "WHERE dept_name IN ('Comp. Sci.', 'Finance') AND (salary >= 90000 OR salary <= 70000);\n",
    "```"
   ]
  },
  {
   "cell_type": "code",
   "execution_count": null,
   "metadata": {},
   "outputs": [],
   "source": [
    "result13 = %sql SELECT name FROM instructor WHERE dept_name IN ('Comp. Sci.', 'Finance') AND (salary >= 90000 OR salary <= 70000);"
   ]
  },
  {
   "cell_type": "code",
   "execution_count": 44,
   "metadata": {},
   "outputs": [
    {
     "data": {
      "text/html": [
       "<table>\n",
       "    <thead>\n",
       "        <tr>\n",
       "            <th>name</th>\n",
       "        </tr>\n",
       "    </thead>\n",
       "    <tbody>\n",
       "        <tr>\n",
       "            <td>Srinivasan</td>\n",
       "        </tr>\n",
       "        <tr>\n",
       "            <td>Wu</td>\n",
       "        </tr>\n",
       "        <tr>\n",
       "            <td>Brandt</td>\n",
       "        </tr>\n",
       "    </tbody>\n",
       "</table>"
      ],
      "text/plain": [
       "[('Srinivasan',), ('Wu',), ('Brandt',)]"
      ]
     },
     "execution_count": 44,
     "metadata": {},
     "output_type": "execute_result"
    }
   ],
   "source": [
    "result13"
   ]
  },
  {
   "cell_type": "markdown",
   "metadata": {},
   "source": [
    "## Aggregate functions: avg"
   ]
  },
  {
   "cell_type": "code",
   "execution_count": 45,
   "metadata": {},
   "outputs": [
    {
     "data": {
      "text/html": [
       "<table>\n",
       "    <thead>\n",
       "        <tr>\n",
       "            <th>building</th>\n",
       "            <th>room_number</th>\n",
       "            <th>capacity</th>\n",
       "        </tr>\n",
       "    </thead>\n",
       "    <tbody>\n",
       "        <tr>\n",
       "            <td>Packard</td>\n",
       "            <td>101</td>\n",
       "            <td>500</td>\n",
       "        </tr>\n",
       "        <tr>\n",
       "            <td>Painter</td>\n",
       "            <td>514</td>\n",
       "            <td>10</td>\n",
       "        </tr>\n",
       "        <tr>\n",
       "            <td>Taylor</td>\n",
       "            <td>3128</td>\n",
       "            <td>70</td>\n",
       "        </tr>\n",
       "        <tr>\n",
       "            <td>Watson</td>\n",
       "            <td>100</td>\n",
       "            <td>30</td>\n",
       "        </tr>\n",
       "        <tr>\n",
       "            <td>Watson</td>\n",
       "            <td>120</td>\n",
       "            <td>50</td>\n",
       "        </tr>\n",
       "    </tbody>\n",
       "</table>"
      ],
      "text/plain": [
       "[('Packard', '101', 500),\n",
       " ('Painter', '514', 10),\n",
       " ('Taylor', '3128', 70),\n",
       " ('Watson', '100', 30),\n",
       " ('Watson', '120', 50)]"
      ]
     },
     "execution_count": 45,
     "metadata": {},
     "output_type": "execute_result"
    }
   ],
   "source": [
    "classroom"
   ]
  },
  {
   "cell_type": "markdown",
   "metadata": {},
   "source": [
    "- From the `classroom` relation, find the names and the average capacity of each building whose average capacity is greater than 25."
   ]
  },
  {
   "cell_type": "markdown",
   "metadata": {},
   "source": [
    "```sql\n",
    "    SELECT building, AVG(capacity)\n",
    "    FROM classroom\n",
    "    GROUP BY building\n",
    "    HAVING AVG(capacity) > 25;\n",
    "```"
   ]
  },
  {
   "cell_type": "code",
   "execution_count": null,
   "metadata": {},
   "outputs": [],
   "source": [
    "result14 = %sql SELECT building, AVG(capacity) FROM classroom GROUP BY building HAVING AVG(capacity) > 25;"
   ]
  },
  {
   "cell_type": "code",
   "execution_count": 49,
   "metadata": {},
   "outputs": [
    {
     "data": {
      "text/html": [
       "<table>\n",
       "    <thead>\n",
       "        <tr>\n",
       "            <th>building</th>\n",
       "            <th>AVG(capacity)</th>\n",
       "        </tr>\n",
       "    </thead>\n",
       "    <tbody>\n",
       "        <tr>\n",
       "            <td>Packard</td>\n",
       "            <td>500.0</td>\n",
       "        </tr>\n",
       "        <tr>\n",
       "            <td>Taylor</td>\n",
       "            <td>70.0</td>\n",
       "        </tr>\n",
       "        <tr>\n",
       "            <td>Watson</td>\n",
       "            <td>40.0</td>\n",
       "        </tr>\n",
       "    </tbody>\n",
       "</table>"
      ],
      "text/plain": [
       "[('Packard', 500.0), ('Taylor', 70.0), ('Watson', 40.0)]"
      ]
     },
     "execution_count": 49,
     "metadata": {},
     "output_type": "execute_result"
    }
   ],
   "source": [
    "result14"
   ]
  },
  {
   "cell_type": "markdown",
   "metadata": {},
   "source": [
    "## Aggregate functions (2): min"
   ]
  },
  {
   "cell_type": "code",
   "execution_count": 46,
   "metadata": {},
   "outputs": [
    {
     "data": {
      "text/html": [
       "<table>\n",
       "    <thead>\n",
       "        <tr>\n",
       "            <th>ID</th>\n",
       "            <th>name</th>\n",
       "            <th>dept_name</th>\n",
       "            <th>salary</th>\n",
       "        </tr>\n",
       "    </thead>\n",
       "    <tbody>\n",
       "        <tr>\n",
       "            <td>10101</td>\n",
       "            <td>Srinivasan</td>\n",
       "            <td>Comp. Sci.</td>\n",
       "            <td>65000</td>\n",
       "        </tr>\n",
       "        <tr>\n",
       "            <td>12121</td>\n",
       "            <td>Wu</td>\n",
       "            <td>Finance</td>\n",
       "            <td>90000</td>\n",
       "        </tr>\n",
       "        <tr>\n",
       "            <td>15151</td>\n",
       "            <td>Mozart</td>\n",
       "            <td>Music</td>\n",
       "            <td>40000</td>\n",
       "        </tr>\n",
       "        <tr>\n",
       "            <td>22222</td>\n",
       "            <td>Einstein</td>\n",
       "            <td>Physics</td>\n",
       "            <td>95000</td>\n",
       "        </tr>\n",
       "        <tr>\n",
       "            <td>32343</td>\n",
       "            <td>El Said</td>\n",
       "            <td>History</td>\n",
       "            <td>60000</td>\n",
       "        </tr>\n",
       "        <tr>\n",
       "            <td>33456</td>\n",
       "            <td>Gold</td>\n",
       "            <td>Physics</td>\n",
       "            <td>87000</td>\n",
       "        </tr>\n",
       "        <tr>\n",
       "            <td>45565</td>\n",
       "            <td>Katz</td>\n",
       "            <td>Comp. Sci.</td>\n",
       "            <td>75000</td>\n",
       "        </tr>\n",
       "        <tr>\n",
       "            <td>58583</td>\n",
       "            <td>Califieri</td>\n",
       "            <td>History</td>\n",
       "            <td>62000</td>\n",
       "        </tr>\n",
       "        <tr>\n",
       "            <td>76543</td>\n",
       "            <td>Singh</td>\n",
       "            <td>Finance</td>\n",
       "            <td>80000</td>\n",
       "        </tr>\n",
       "        <tr>\n",
       "            <td>76766</td>\n",
       "            <td>Crick</td>\n",
       "            <td>Biology</td>\n",
       "            <td>72000</td>\n",
       "        </tr>\n",
       "        <tr>\n",
       "            <td>83821</td>\n",
       "            <td>Brandt</td>\n",
       "            <td>Comp. Sci.</td>\n",
       "            <td>92000</td>\n",
       "        </tr>\n",
       "        <tr>\n",
       "            <td>98345</td>\n",
       "            <td>Kim</td>\n",
       "            <td>Elec. Eng.</td>\n",
       "            <td>80000</td>\n",
       "        </tr>\n",
       "    </tbody>\n",
       "</table>"
      ],
      "text/plain": [
       "[('10101', 'Srinivasan', 'Comp. Sci.', 65000),\n",
       " ('12121', 'Wu', 'Finance', 90000),\n",
       " ('15151', 'Mozart', 'Music', 40000),\n",
       " ('22222', 'Einstein', 'Physics', 95000),\n",
       " ('32343', 'El Said', 'History', 60000),\n",
       " ('33456', 'Gold', 'Physics', 87000),\n",
       " ('45565', 'Katz', 'Comp. Sci.', 75000),\n",
       " ('58583', 'Califieri', 'History', 62000),\n",
       " ('76543', 'Singh', 'Finance', 80000),\n",
       " ('76766', 'Crick', 'Biology', 72000),\n",
       " ('83821', 'Brandt', 'Comp. Sci.', 92000),\n",
       " ('98345', 'Kim', 'Elec. Eng.', 80000)]"
      ]
     },
     "execution_count": 46,
     "metadata": {},
     "output_type": "execute_result"
    }
   ],
   "source": [
    "instructor"
   ]
  },
  {
   "cell_type": "markdown",
   "metadata": {},
   "source": [
    "- From the `instructor` relation, find the least salary drawn by any instructor among all the instructors."
   ]
  },
  {
   "cell_type": "markdown",
   "metadata": {},
   "source": [
    "```sql\n",
    "SELECT MIN(salary) AS least_salary\n",
    "FROM instructor;\n",
    "```"
   ]
  },
  {
   "cell_type": "code",
   "execution_count": null,
   "metadata": {},
   "outputs": [],
   "source": [
    "result15 = %sql SELECT MIN(salary) AS least_salary FROM instructor;"
   ]
  },
  {
   "cell_type": "code",
   "execution_count": 51,
   "metadata": {},
   "outputs": [
    {
     "data": {
      "text/html": [
       "<table>\n",
       "    <thead>\n",
       "        <tr>\n",
       "            <th>least_salary</th>\n",
       "        </tr>\n",
       "    </thead>\n",
       "    <tbody>\n",
       "        <tr>\n",
       "            <td>40000</td>\n",
       "        </tr>\n",
       "    </tbody>\n",
       "</table>"
      ],
      "text/plain": [
       "[(40000,)]"
      ]
     },
     "execution_count": 51,
     "metadata": {},
     "output_type": "execute_result"
    }
   ],
   "source": [
    "result15"
   ]
  },
  {
   "cell_type": "markdown",
   "metadata": {},
   "source": [
    "## Aggregate functions (3): max"
   ]
  },
  {
   "cell_type": "code",
   "execution_count": 47,
   "metadata": {},
   "outputs": [
    {
     "data": {
      "text/html": [
       "<table>\n",
       "    <thead>\n",
       "        <tr>\n",
       "            <th>ID</th>\n",
       "            <th>name</th>\n",
       "            <th>dept_name</th>\n",
       "            <th>tot_cred</th>\n",
       "        </tr>\n",
       "    </thead>\n",
       "    <tbody>\n",
       "        <tr>\n",
       "            <td>00128</td>\n",
       "            <td>Zhang</td>\n",
       "            <td>Comp. Sci.</td>\n",
       "            <td>102</td>\n",
       "        </tr>\n",
       "        <tr>\n",
       "            <td>12345</td>\n",
       "            <td>Shankar</td>\n",
       "            <td>Comp. Sci.</td>\n",
       "            <td>32</td>\n",
       "        </tr>\n",
       "        <tr>\n",
       "            <td>19991</td>\n",
       "            <td>Brandt</td>\n",
       "            <td>History</td>\n",
       "            <td>80</td>\n",
       "        </tr>\n",
       "        <tr>\n",
       "            <td>23121</td>\n",
       "            <td>Chavez</td>\n",
       "            <td>Finance</td>\n",
       "            <td>110</td>\n",
       "        </tr>\n",
       "        <tr>\n",
       "            <td>44553</td>\n",
       "            <td>Peltier</td>\n",
       "            <td>Physics</td>\n",
       "            <td>56</td>\n",
       "        </tr>\n",
       "        <tr>\n",
       "            <td>45678</td>\n",
       "            <td>Levy</td>\n",
       "            <td>Physics</td>\n",
       "            <td>46</td>\n",
       "        </tr>\n",
       "        <tr>\n",
       "            <td>54321</td>\n",
       "            <td>Williams</td>\n",
       "            <td>Comp. Sci.</td>\n",
       "            <td>54</td>\n",
       "        </tr>\n",
       "        <tr>\n",
       "            <td>55739</td>\n",
       "            <td>Sanchez</td>\n",
       "            <td>Music</td>\n",
       "            <td>38</td>\n",
       "        </tr>\n",
       "        <tr>\n",
       "            <td>70557</td>\n",
       "            <td>Snow</td>\n",
       "            <td>Physics</td>\n",
       "            <td>0</td>\n",
       "        </tr>\n",
       "        <tr>\n",
       "            <td>76543</td>\n",
       "            <td>Brown</td>\n",
       "            <td>Comp. Sci.</td>\n",
       "            <td>58</td>\n",
       "        </tr>\n",
       "        <tr>\n",
       "            <td>76653</td>\n",
       "            <td>Aoi</td>\n",
       "            <td>Elec. Eng.</td>\n",
       "            <td>60</td>\n",
       "        </tr>\n",
       "        <tr>\n",
       "            <td>98765</td>\n",
       "            <td>Bourikas</td>\n",
       "            <td>Elec. Eng.</td>\n",
       "            <td>98</td>\n",
       "        </tr>\n",
       "        <tr>\n",
       "            <td>98988</td>\n",
       "            <td>Tanaka</td>\n",
       "            <td>Biology</td>\n",
       "            <td>120</td>\n",
       "        </tr>\n",
       "    </tbody>\n",
       "</table>"
      ],
      "text/plain": [
       "[('00128', 'Zhang', 'Comp. Sci.', 102),\n",
       " ('12345', 'Shankar', 'Comp. Sci.', 32),\n",
       " ('19991', 'Brandt', 'History', 80),\n",
       " ('23121', 'Chavez', 'Finance', 110),\n",
       " ('44553', 'Peltier', 'Physics', 56),\n",
       " ('45678', 'Levy', 'Physics', 46),\n",
       " ('54321', 'Williams', 'Comp. Sci.', 54),\n",
       " ('55739', 'Sanchez', 'Music', 38),\n",
       " ('70557', 'Snow', 'Physics', 0),\n",
       " ('76543', 'Brown', 'Comp. Sci.', 58),\n",
       " ('76653', 'Aoi', 'Elec. Eng.', 60),\n",
       " ('98765', 'Bourikas', 'Elec. Eng.', 98),\n",
       " ('98988', 'Tanaka', 'Biology', 120)]"
      ]
     },
     "execution_count": 47,
     "metadata": {},
     "output_type": "execute_result"
    }
   ],
   "source": [
    "student"
   ]
  },
  {
   "cell_type": "markdown",
   "metadata": {},
   "source": [
    "- From the `student` relation, find the maximum credits obtained by any student among all the students."
   ]
  },
  {
   "cell_type": "markdown",
   "metadata": {},
   "source": [
    "```sql\n",
    "SELECT MAX(tot_cred) AS max_credits\n",
    "FROM student;\n",
    "```"
   ]
  },
  {
   "cell_type": "code",
   "execution_count": null,
   "metadata": {},
   "outputs": [],
   "source": [
    "result16 = %sql SELECT MAX(tot_cred) AS max_credits FROM student;"
   ]
  },
  {
   "cell_type": "code",
   "execution_count": 53,
   "metadata": {},
   "outputs": [
    {
     "data": {
      "text/html": [
       "<table>\n",
       "    <thead>\n",
       "        <tr>\n",
       "            <th>max_credits</th>\n",
       "        </tr>\n",
       "    </thead>\n",
       "    <tbody>\n",
       "        <tr>\n",
       "            <td>120</td>\n",
       "        </tr>\n",
       "    </tbody>\n",
       "</table>"
      ],
      "text/plain": [
       "[(120,)]"
      ]
     },
     "execution_count": 53,
     "metadata": {},
     "output_type": "execute_result"
    }
   ],
   "source": [
    "result16"
   ]
  },
  {
   "cell_type": "markdown",
   "metadata": {},
   "source": [
    "## Aggregate functions (4): count"
   ]
  },
  {
   "cell_type": "code",
   "execution_count": null,
   "metadata": {},
   "outputs": [],
   "source": [
    "section = %sql SELECT * FROM section;"
   ]
  },
  {
   "cell_type": "code",
   "execution_count": 55,
   "metadata": {},
   "outputs": [
    {
     "data": {
      "text/html": [
       "<table>\n",
       "    <thead>\n",
       "        <tr>\n",
       "            <th>course_id</th>\n",
       "            <th>sec_id</th>\n",
       "            <th>semester</th>\n",
       "            <th>year</th>\n",
       "            <th>building</th>\n",
       "            <th>room_number</th>\n",
       "            <th>time_slot_id</th>\n",
       "        </tr>\n",
       "    </thead>\n",
       "    <tbody>\n",
       "        <tr>\n",
       "            <td>BIO-101</td>\n",
       "            <td>1</td>\n",
       "            <td>Summer</td>\n",
       "            <td>2017</td>\n",
       "            <td>Painter</td>\n",
       "            <td>514</td>\n",
       "            <td>B</td>\n",
       "        </tr>\n",
       "        <tr>\n",
       "            <td>BIO-301</td>\n",
       "            <td>1</td>\n",
       "            <td>Summer</td>\n",
       "            <td>2018</td>\n",
       "            <td>Painter</td>\n",
       "            <td>514</td>\n",
       "            <td>A</td>\n",
       "        </tr>\n",
       "        <tr>\n",
       "            <td>CS-101</td>\n",
       "            <td>1</td>\n",
       "            <td>Fall</td>\n",
       "            <td>2017</td>\n",
       "            <td>Packard</td>\n",
       "            <td>101</td>\n",
       "            <td>H</td>\n",
       "        </tr>\n",
       "        <tr>\n",
       "            <td>CS-101</td>\n",
       "            <td>1</td>\n",
       "            <td>Spring</td>\n",
       "            <td>2018</td>\n",
       "            <td>Packard</td>\n",
       "            <td>101</td>\n",
       "            <td>F</td>\n",
       "        </tr>\n",
       "        <tr>\n",
       "            <td>CS-190</td>\n",
       "            <td>1</td>\n",
       "            <td>Spring</td>\n",
       "            <td>2017</td>\n",
       "            <td>Taylor</td>\n",
       "            <td>3128</td>\n",
       "            <td>E</td>\n",
       "        </tr>\n",
       "        <tr>\n",
       "            <td>CS-190</td>\n",
       "            <td>2</td>\n",
       "            <td>Spring</td>\n",
       "            <td>2017</td>\n",
       "            <td>Taylor</td>\n",
       "            <td>3128</td>\n",
       "            <td>A</td>\n",
       "        </tr>\n",
       "        <tr>\n",
       "            <td>CS-315</td>\n",
       "            <td>1</td>\n",
       "            <td>Spring</td>\n",
       "            <td>2018</td>\n",
       "            <td>Watson</td>\n",
       "            <td>120</td>\n",
       "            <td>D</td>\n",
       "        </tr>\n",
       "        <tr>\n",
       "            <td>CS-319</td>\n",
       "            <td>1</td>\n",
       "            <td>Spring</td>\n",
       "            <td>2018</td>\n",
       "            <td>Watson</td>\n",
       "            <td>100</td>\n",
       "            <td>B</td>\n",
       "        </tr>\n",
       "        <tr>\n",
       "            <td>CS-319</td>\n",
       "            <td>2</td>\n",
       "            <td>Spring</td>\n",
       "            <td>2018</td>\n",
       "            <td>Taylor</td>\n",
       "            <td>3128</td>\n",
       "            <td>C</td>\n",
       "        </tr>\n",
       "        <tr>\n",
       "            <td>CS-347</td>\n",
       "            <td>1</td>\n",
       "            <td>Fall</td>\n",
       "            <td>2017</td>\n",
       "            <td>Taylor</td>\n",
       "            <td>3128</td>\n",
       "            <td>A</td>\n",
       "        </tr>\n",
       "        <tr>\n",
       "            <td>EE-181</td>\n",
       "            <td>1</td>\n",
       "            <td>Spring</td>\n",
       "            <td>2017</td>\n",
       "            <td>Taylor</td>\n",
       "            <td>3128</td>\n",
       "            <td>C</td>\n",
       "        </tr>\n",
       "        <tr>\n",
       "            <td>FIN-201</td>\n",
       "            <td>1</td>\n",
       "            <td>Spring</td>\n",
       "            <td>2018</td>\n",
       "            <td>Packard</td>\n",
       "            <td>101</td>\n",
       "            <td>B</td>\n",
       "        </tr>\n",
       "        <tr>\n",
       "            <td>HIS-351</td>\n",
       "            <td>1</td>\n",
       "            <td>Spring</td>\n",
       "            <td>2018</td>\n",
       "            <td>Painter</td>\n",
       "            <td>514</td>\n",
       "            <td>C</td>\n",
       "        </tr>\n",
       "        <tr>\n",
       "            <td>MU-199</td>\n",
       "            <td>1</td>\n",
       "            <td>Spring</td>\n",
       "            <td>2018</td>\n",
       "            <td>Packard</td>\n",
       "            <td>101</td>\n",
       "            <td>D</td>\n",
       "        </tr>\n",
       "        <tr>\n",
       "            <td>PHY-101</td>\n",
       "            <td>1</td>\n",
       "            <td>Fall</td>\n",
       "            <td>2017</td>\n",
       "            <td>Watson</td>\n",
       "            <td>100</td>\n",
       "            <td>A</td>\n",
       "        </tr>\n",
       "    </tbody>\n",
       "</table>"
      ],
      "text/plain": [
       "[('BIO-101', '1', 'Summer', 2017, 'Painter', '514', 'B'),\n",
       " ('BIO-301', '1', 'Summer', 2018, 'Painter', '514', 'A'),\n",
       " ('CS-101', '1', 'Fall', 2017, 'Packard', '101', 'H'),\n",
       " ('CS-101', '1', 'Spring', 2018, 'Packard', '101', 'F'),\n",
       " ('CS-190', '1', 'Spring', 2017, 'Taylor', '3128', 'E'),\n",
       " ('CS-190', '2', 'Spring', 2017, 'Taylor', '3128', 'A'),\n",
       " ('CS-315', '1', 'Spring', 2018, 'Watson', '120', 'D'),\n",
       " ('CS-319', '1', 'Spring', 2018, 'Watson', '100', 'B'),\n",
       " ('CS-319', '2', 'Spring', 2018, 'Taylor', '3128', 'C'),\n",
       " ('CS-347', '1', 'Fall', 2017, 'Taylor', '3128', 'A'),\n",
       " ('EE-181', '1', 'Spring', 2017, 'Taylor', '3128', 'C'),\n",
       " ('FIN-201', '1', 'Spring', 2018, 'Packard', '101', 'B'),\n",
       " ('HIS-351', '1', 'Spring', 2018, 'Painter', '514', 'C'),\n",
       " ('MU-199', '1', 'Spring', 2018, 'Packard', '101', 'D'),\n",
       " ('PHY-101', '1', 'Fall', 2017, 'Watson', '100', 'A')]"
      ]
     },
     "execution_count": 55,
     "metadata": {},
     "output_type": "execute_result"
    }
   ],
   "source": [
    "section"
   ]
  },
  {
   "cell_type": "markdown",
   "metadata": {},
   "source": [
    "- From the `section` relation, find the number of courses run in each building."
   ]
  },
  {
   "cell_type": "markdown",
   "metadata": {},
   "source": [
    "```sql\n",
    "SELECT building, COUNT(course_id) AS course_count\n",
    "FROM section\n",
    "GROUP BY building;\n",
    "```"
   ]
  },
  {
   "cell_type": "code",
   "execution_count": null,
   "metadata": {},
   "outputs": [],
   "source": [
    "result17 = %sql SELECT building, COUNT(course_id) AS course_count FROM section GROUP BY building;"
   ]
  },
  {
   "cell_type": "code",
   "execution_count": 58,
   "metadata": {},
   "outputs": [
    {
     "data": {
      "text/html": [
       "<table>\n",
       "    <thead>\n",
       "        <tr>\n",
       "            <th>building</th>\n",
       "            <th>course_count</th>\n",
       "        </tr>\n",
       "    </thead>\n",
       "    <tbody>\n",
       "        <tr>\n",
       "            <td>Packard</td>\n",
       "            <td>4</td>\n",
       "        </tr>\n",
       "        <tr>\n",
       "            <td>Painter</td>\n",
       "            <td>3</td>\n",
       "        </tr>\n",
       "        <tr>\n",
       "            <td>Taylor</td>\n",
       "            <td>5</td>\n",
       "        </tr>\n",
       "        <tr>\n",
       "            <td>Watson</td>\n",
       "            <td>3</td>\n",
       "        </tr>\n",
       "    </tbody>\n",
       "</table>"
      ],
      "text/plain": [
       "[('Packard', 4), ('Painter', 3), ('Taylor', 5), ('Watson', 3)]"
      ]
     },
     "execution_count": 58,
     "metadata": {},
     "output_type": "execute_result"
    }
   ],
   "source": [
    "result17"
   ]
  },
  {
   "cell_type": "markdown",
   "metadata": {},
   "source": [
    "## Aggregate functions (5): sum"
   ]
  },
  {
   "cell_type": "code",
   "execution_count": 56,
   "metadata": {},
   "outputs": [
    {
     "data": {
      "text/html": [
       "<table>\n",
       "    <thead>\n",
       "        <tr>\n",
       "            <th>course_id</th>\n",
       "            <th>title</th>\n",
       "            <th>dept_name</th>\n",
       "            <th>credits</th>\n",
       "        </tr>\n",
       "    </thead>\n",
       "    <tbody>\n",
       "        <tr>\n",
       "            <td>BIO-101</td>\n",
       "            <td>Intro. to Biology</td>\n",
       "            <td>Biology</td>\n",
       "            <td>4</td>\n",
       "        </tr>\n",
       "        <tr>\n",
       "            <td>BIO-301</td>\n",
       "            <td>Genetics</td>\n",
       "            <td>Biology</td>\n",
       "            <td>4</td>\n",
       "        </tr>\n",
       "        <tr>\n",
       "            <td>BIO-399</td>\n",
       "            <td>Computational Biology</td>\n",
       "            <td>Biology</td>\n",
       "            <td>3</td>\n",
       "        </tr>\n",
       "        <tr>\n",
       "            <td>CS-101</td>\n",
       "            <td>Intro. to Computer Science</td>\n",
       "            <td>Comp. Sci.</td>\n",
       "            <td>4</td>\n",
       "        </tr>\n",
       "        <tr>\n",
       "            <td>CS-190</td>\n",
       "            <td>Game Design</td>\n",
       "            <td>Comp. Sci.</td>\n",
       "            <td>4</td>\n",
       "        </tr>\n",
       "        <tr>\n",
       "            <td>CS-315</td>\n",
       "            <td>Robotics</td>\n",
       "            <td>Comp. Sci.</td>\n",
       "            <td>3</td>\n",
       "        </tr>\n",
       "        <tr>\n",
       "            <td>CS-319</td>\n",
       "            <td>Image Processing</td>\n",
       "            <td>Comp. Sci.</td>\n",
       "            <td>3</td>\n",
       "        </tr>\n",
       "        <tr>\n",
       "            <td>CS-347</td>\n",
       "            <td>Database System Concepts</td>\n",
       "            <td>Comp. Sci.</td>\n",
       "            <td>3</td>\n",
       "        </tr>\n",
       "        <tr>\n",
       "            <td>EE-181</td>\n",
       "            <td>Intro. to Digital Systems</td>\n",
       "            <td>Elec. Eng.</td>\n",
       "            <td>3</td>\n",
       "        </tr>\n",
       "        <tr>\n",
       "            <td>FIN-201</td>\n",
       "            <td>Investment Banking</td>\n",
       "            <td>Finance</td>\n",
       "            <td>3</td>\n",
       "        </tr>\n",
       "        <tr>\n",
       "            <td>HIS-351</td>\n",
       "            <td>World History</td>\n",
       "            <td>History</td>\n",
       "            <td>3</td>\n",
       "        </tr>\n",
       "        <tr>\n",
       "            <td>MU-199</td>\n",
       "            <td>Music Video Production</td>\n",
       "            <td>Music</td>\n",
       "            <td>3</td>\n",
       "        </tr>\n",
       "        <tr>\n",
       "            <td>PHY-101</td>\n",
       "            <td>Physical Principles</td>\n",
       "            <td>Physics</td>\n",
       "            <td>4</td>\n",
       "        </tr>\n",
       "    </tbody>\n",
       "</table>"
      ],
      "text/plain": [
       "[('BIO-101', 'Intro. to Biology', 'Biology', 4),\n",
       " ('BIO-301', 'Genetics', 'Biology', 4),\n",
       " ('BIO-399', 'Computational Biology', 'Biology', 3),\n",
       " ('CS-101', 'Intro. to Computer Science', 'Comp. Sci.', 4),\n",
       " ('CS-190', 'Game Design', 'Comp. Sci.', 4),\n",
       " ('CS-315', 'Robotics', 'Comp. Sci.', 3),\n",
       " ('CS-319', 'Image Processing', 'Comp. Sci.', 3),\n",
       " ('CS-347', 'Database System Concepts', 'Comp. Sci.', 3),\n",
       " ('EE-181', 'Intro. to Digital Systems', 'Elec. Eng.', 3),\n",
       " ('FIN-201', 'Investment Banking', 'Finance', 3),\n",
       " ('HIS-351', 'World History', 'History', 3),\n",
       " ('MU-199', 'Music Video Production', 'Music', 3),\n",
       " ('PHY-101', 'Physical Principles', 'Physics', 4)]"
      ]
     },
     "execution_count": 56,
     "metadata": {},
     "output_type": "execute_result"
    }
   ],
   "source": [
    "course"
   ]
  },
  {
   "cell_type": "markdown",
   "metadata": {},
   "source": [
    "- From the `course` relation, find the total credits offered by each department."
   ]
  },
  {
   "cell_type": "markdown",
   "metadata": {},
   "source": [
    "```sql\n",
    "SELECT dept_name, SUM(credits) AS sum_credits\n",
    "FROM course\n",
    "GROUP BY dept_name;\n",
    "```"
   ]
  },
  {
   "cell_type": "code",
   "execution_count": null,
   "metadata": {},
   "outputs": [],
   "source": [
    "result18 = %sql SELECT dept_name, SUM(credits) AS sum_credits FROM course GROUP BY dept_name;"
   ]
  },
  {
   "cell_type": "code",
   "execution_count": 60,
   "metadata": {},
   "outputs": [
    {
     "data": {
      "text/html": [
       "<table>\n",
       "    <thead>\n",
       "        <tr>\n",
       "            <th>dept_name</th>\n",
       "            <th>sum_credits</th>\n",
       "        </tr>\n",
       "    </thead>\n",
       "    <tbody>\n",
       "        <tr>\n",
       "            <td>Biology</td>\n",
       "            <td>11</td>\n",
       "        </tr>\n",
       "        <tr>\n",
       "            <td>Comp. Sci.</td>\n",
       "            <td>17</td>\n",
       "        </tr>\n",
       "        <tr>\n",
       "            <td>Elec. Eng.</td>\n",
       "            <td>3</td>\n",
       "        </tr>\n",
       "        <tr>\n",
       "            <td>Finance</td>\n",
       "            <td>3</td>\n",
       "        </tr>\n",
       "        <tr>\n",
       "            <td>History</td>\n",
       "            <td>3</td>\n",
       "        </tr>\n",
       "        <tr>\n",
       "            <td>Music</td>\n",
       "            <td>3</td>\n",
       "        </tr>\n",
       "        <tr>\n",
       "            <td>Physics</td>\n",
       "            <td>4</td>\n",
       "        </tr>\n",
       "    </tbody>\n",
       "</table>"
      ],
      "text/plain": [
       "[('Biology', 11),\n",
       " ('Comp. Sci.', 17),\n",
       " ('Elec. Eng.', 3),\n",
       " ('Finance', 3),\n",
       " ('History', 3),\n",
       " ('Music', 3),\n",
       " ('Physics', 4)]"
      ]
     },
     "execution_count": 60,
     "metadata": {},
     "output_type": "execute_result"
    }
   ],
   "source": [
    "result18"
   ]
  },
  {
   "cell_type": "markdown",
   "metadata": {},
   "source": [
    "# Lecture 3.2: Intermediate SQL/1"
   ]
  },
  {
   "cell_type": "markdown",
   "metadata": {},
   "source": [
    "## Nested Subqueries\n",
    "\n",
    "- SQL provides a mechanism for nesting of subqueries\n",
    "- A **subquery** is a **select-from-where** expression that is nested within another query\n",
    "- The nesting can be done in the following SQL query\n",
    "  $$ \\text{select } A_1, A_2, ..., A_n $$\n",
    "    $$ \\text{from } r_1, r_2, ..., r_m $$\n",
    "    $$ \\text{where } P $$\n",
    "  as follows:\n",
    "   - $A_i$ can be a subquery that generates a single value\n",
    "   - $r_i$ can be replaced by any valid subquery\n",
    "   - $P$ can be replaced with an expressionm of the form:\n",
    "    \n",
    "      $B \\text{ <operation>}$ (subquery)\n",
    "    \n",
    "      where $B$ is an attribute and $\\text{<operation>}$ to be defined later."
   ]
  },
  {
   "cell_type": "markdown",
   "metadata": {},
   "source": [
    "## Subqueries in the Where Clause\n",
    "\n",
    "- Typical use of subqueries is to perform tests:\n",
    "  - For set membership\n",
    "  - For set comparisons\n",
    "  - For set cardinality"
   ]
  },
  {
   "cell_type": "markdown",
   "metadata": {},
   "source": [
    "## Set Membership\n",
    "- Find courses offered in Fall 2009 and in Spring 2010 (**intersect** example)\n",
    "```sql\n",
    "    select distinct course_id\n",
    "    from section\n",
    "    where semester = 'Fall' and year = 2017 and\n",
    "    course_id in (select course_id\n",
    "                from section\n",
    "                where semester = 'Spring' and year = 2018);\n",
    "```"
   ]
  },
  {
   "cell_type": "code",
   "execution_count": null,
   "metadata": {},
   "outputs": [],
   "source": [
    "result19 = %sql select distinct course_id from section where semester = 'Fall' and year = 2017 and course_id not in (select course_id from section where semester = 'Spring' and year = 2018);"
   ]
  },
  {
   "cell_type": "code",
   "execution_count": 62,
   "metadata": {},
   "outputs": [
    {
     "data": {
      "text/html": [
       "<table>\n",
       "    <thead>\n",
       "        <tr>\n",
       "            <th>course_id</th>\n",
       "        </tr>\n",
       "    </thead>\n",
       "    <tbody>\n",
       "        <tr>\n",
       "            <td>CS-347</td>\n",
       "        </tr>\n",
       "        <tr>\n",
       "            <td>PHY-101</td>\n",
       "        </tr>\n",
       "    </tbody>\n",
       "</table>"
      ],
      "text/plain": [
       "[('CS-347',), ('PHY-101',)]"
      ]
     },
     "execution_count": 62,
     "metadata": {},
     "output_type": "execute_result"
    }
   ],
   "source": [
    "result19"
   ]
  },
  {
   "cell_type": "markdown",
   "metadata": {},
   "source": [
    "## Set Membership (2)\n",
    "\n",
    "- Find the total number of (distinct) students who have taken course sections taught by instructor with ID '10101'\n",
    "```sql\n",
    "select count(distinct ID)\n",
    "from takes\n",
    "where (course_id, sec_id, semester, year) in\n",
    "    (select course_id, sec_id, semester, year\n",
    "    from teaches\n",
    "    where teaches.ID = '10101');\n",
    "```"
   ]
  },
  {
   "cell_type": "code",
   "execution_count": null,
   "metadata": {},
   "outputs": [],
   "source": [
    "result20 = %sql select count(distinct ID) from takes where (course_id, sec_id, semester, year) in (select course_id, sec_id, semester, year from teaches where teaches.ID = '10101');"
   ]
  },
  {
   "cell_type": "code",
   "execution_count": 64,
   "metadata": {},
   "outputs": [
    {
     "data": {
      "text/html": [
       "<table>\n",
       "    <thead>\n",
       "        <tr>\n",
       "            <th>count(distinct ID)</th>\n",
       "        </tr>\n",
       "    </thead>\n",
       "    <tbody>\n",
       "        <tr>\n",
       "            <td>6</td>\n",
       "        </tr>\n",
       "    </tbody>\n",
       "</table>"
      ],
      "text/plain": [
       "[(6,)]"
      ]
     },
     "execution_count": 64,
     "metadata": {},
     "output_type": "execute_result"
    }
   ],
   "source": [
    "result20"
   ]
  },
  {
   "cell_type": "code",
   "execution_count": 29,
   "metadata": {},
   "outputs": [
    {
     "data": {
      "text/html": [
       "<table>\n",
       "    <thead>\n",
       "        <tr>\n",
       "            <th>count(distinct ID)</th>\n",
       "        </tr>\n",
       "    </thead>\n",
       "    <tbody>\n",
       "        <tr>\n",
       "            <td>6</td>\n",
       "        </tr>\n",
       "    </tbody>\n",
       "</table>"
      ],
      "text/plain": [
       "[(6,)]"
      ]
     },
     "execution_count": 29,
     "metadata": {},
     "output_type": "execute_result"
    }
   ],
   "source": [
    "result"
   ]
  },
  {
   "cell_type": "markdown",
   "metadata": {},
   "source": [
    "## Set Comparison - \"some\" Clause\n",
    "\n",
    "- Find the names of instructors with salary greater than that of some (at least one) instructor in the Biology department\n",
    "\n",
    "```sql\n",
    "    select distinct T.name\n",
    "    from instructor T, instructor S\n",
    "    where T.salary > S.salary and S.dept_name = 'Biology';\n",
    "```"
   ]
  },
  {
   "cell_type": "markdown",
   "metadata": {},
   "source": [
    "- Same query using **some** clause\n",
    "```sql\n",
    "    select name\n",
    "    from instructor\n",
    "    where salary > some (select salary\n",
    "                        from instructor\n",
    "                        where dept_name = 'Biology');\n",
    "```"
   ]
  },
  {
   "cell_type": "markdown",
   "metadata": {},
   "source": [
    "## Definition of \"some\" Clause\n",
    "\n",
    "- F $\\text{<comp>}$ **some** $r \\Leftrightarrow \\exists t \\in r$ such that (F $\\text{<comp>}$ t)\n",
    "    where $\\text{<comp>}$ can be: $<$, $\\leq$, $>$, $\\geq$, $=$, $\\neq$\n",
    "- **some** represents existential quantification"
   ]
  },
  {
   "cell_type": "markdown",
   "metadata": {},
   "source": [
    "(5 < **some** {0, 5, 6}) = True\n",
    "\n",
    "(5 < **some** {0, 5}) = False\n",
    "\n",
    "(5 = **some** {0, 5}) = True\n",
    "\n",
    "(5 $\\neq$ **some** {0, 5}) = False"
   ]
  },
  {
   "cell_type": "markdown",
   "metadata": {},
   "source": [
    "(= **some**) $\\equiv$ **in**\n",
    "\n",
    "However, ($\\neq$ **some**) $\\equiv$ **not in**"
   ]
  },
  {
   "cell_type": "markdown",
   "metadata": {},
   "source": [
    "## Set Comparison - \"all\" Clause\n",
    "\n",
    "- Find the names of all instructors with salary greater than that of all instructors in the Biology department\n",
    "```sql\n",
    "select name\n",
    "from instructor\n",
    "where salary > all (select salary\n",
    "                    from instructor\n",
    "                    where dept_name = 'Biology');\n",
    "```"
   ]
  },
  {
   "cell_type": "markdown",
   "metadata": {},
   "source": [
    "## Definition of \"all\" Clause\n",
    "\n",
    "- F $\\text{<comp>}$ **all** $r \\Leftrightarrow \\forall t \\in r$ such that (F $\\text{<comp>}$ t)\n",
    "    where $\\text{<comp>}$ can be: $<$, $\\leq$, $>$, $\\geq$, $=$, $\\neq$\n",
    "- **all** represents universal quantification"
   ]
  },
  {
   "cell_type": "markdown",
   "metadata": {},
   "source": [
    "(5 < **all** {0, 5, 6}) = False\n",
    "\n",
    "(5 < **all** {6, 10}) = True\n",
    "\n",
    "(5 = **all** {0, 5}) = False\n",
    "\n",
    "(5 $\\neq$ **all** {4, 6}) = True"
   ]
  },
  {
   "cell_type": "markdown",
   "metadata": {},
   "source": [
    "($\\neq$ **all**) $\\equiv$ **not in**\n",
    "\n",
    "However, ($=$ **all**) !$\\equiv$ **in**"
   ]
  },
  {
   "cell_type": "markdown",
   "metadata": {},
   "source": [
    "## Test for Empty Relations: \"exists\"\n",
    "\n",
    "- The **exists** constucrt returns the value **true** if the argument subquery is non-empty\n",
    "  - **exists** $r \\Leftrightarrow r \\neq \\emptyset $\n",
    "  - **not exists** $r \\Leftrightarrow r = \\emptyset $"
   ]
  },
  {
   "cell_type": "markdown",
   "metadata": {},
   "source": [
    "## Use of \"exists\" clause\n",
    "\n",
    "- Yet another way of specifying the query “Find all courses taught in both the Fall 2009\n",
    "semester and in the Spring 2010 semester”\n",
    "```sql\n",
    "select course_id\n",
    "from section as S\n",
    "where semester = 'Fall' and year = 2009 and\n",
    "exists (select *\n",
    "        from section as T\n",
    "        where semester = 'Spring' and year = 2010 and\n",
    "        S.course_id = T.course_id);\n",
    "```\n",
    "- **Correlation name** - variable S in the outer query\n",
    "- **Correlated subquery** - subquery that references the correlation name (the inner query)"
   ]
  },
  {
   "cell_type": "markdown",
   "metadata": {},
   "source": [
    "## Use of \"not exists\" clause\n",
    "\n",
    "- Find all students who have taken all courses offered in the Biology department.\n",
    "```sql\n",
    "select distinct S.ID, S.name\n",
    "from student as S\n",
    "where not exists ((select course_id\n",
    "                    from course\n",
    "                    where dept_name = 'Biology')\n",
    "                    except\n",
    "                    (select T.course_id\n",
    "                    from takes as T\n",
    "                    where S.ID = T.ID));\n",
    "```\n",
    "  - First nested query lists all courses offered in Biology\n",
    "  - Second nested query lists all courses a particular student took\n",
    "\n",
    "- Note: $X-Y = \\emptyset \\Leftrightarrow X \\subseteq Y$\n",
    "- Note: Cannot write this query using $=$ **all** and its variants"
   ]
  },
  {
   "cell_type": "markdown",
   "metadata": {},
   "source": [
    "## Test for Absence of Duplicate Tuples: \"unique\"\n",
    "\n",
    "- The **unique** construct tests whether a subquery has any duplicate tuples in its result\n",
    "- The **unique** construct evaluates to **true** if the subquery result has no duplicate tuples\n",
    "- Find all courses that were offered at most once in 2009\n",
    "```sql\n",
    "select T.course_id\n",
    "from course as T\n",
    "where unique (select R.course_id\n",
    "              from section as R\n",
    "              where R.course_id = T.course_id\n",
    "              and R.year = 2009);\n",
    "```"
   ]
  },
  {
   "cell_type": "markdown",
   "metadata": {},
   "source": [
    "## Subqueries in the From Clause\n",
    "\n",
    "- SQL allows a subquery expression to be used in the **from** clause\n",
    "- Find the average instructors’ salaries of those departments where the average salary is greater than $42,000\n",
    "\n",
    "```sql\n",
    "select dept_name, avg_salary\n",
    "from (select dept_name, avg(salary) as avg_salary\n",
    "      from instructor\n",
    "      group by dept_name)\n",
    "where avg_salary > 42000;\n",
    "```\n",
    "- Note that we do not need to use the **having** clause\n",
    "- Another way to write the same query is:\n",
    "```sql\n",
    "select dept_name, avg_salary\n",
    "from (select dept_name, avg(salary)\n",
    "      from instructor\n",
    "      group by dept_name) as dept_avg (dept_name, avg_salary)\n",
    "where avg_salary > 42000;\n",
    "```"
   ]
  },
  {
   "cell_type": "markdown",
   "metadata": {},
   "source": [
    "## With Clause\n",
    "\n",
    "- The **with** clause provides a way of defining a temporary relation whose definition is available only to the query in which the with clause occurs\n",
    "- Find all departments with the maximum budget\n",
    "\n",
    "```sql\n",
    "with max_budget(value) as\n",
    "    (select max(budget)\n",
    "    from department)\n",
    "select department.dept_name\n",
    "from department, max_budget\n",
    "where department.budget = max_budget.value;\n",
    "```"
   ]
  },
  {
   "cell_type": "markdown",
   "metadata": {},
   "source": [
    "## Complex Queries using With Clause\n",
    "\n",
    "- Find all departments where the total salary is greater than the average of the total salary at all departments\n",
    "\n",
    "```sql\n",
    "with dept_total(dept_name, value) as\n",
    "    select dept_name, sum(salary)\n",
    "    from instructor\n",
    "    group by dept_name,\n",
    "dept_total_avg(value) as\n",
    "    (select avg(value)\n",
    "    from dept_total)\n",
    "select dept_name\n",
    "from dept_total, dept_total_avg\n",
    "where dept_total.value > dept_total_avg.value;\n",
    "```"
   ]
  },
  {
   "cell_type": "markdown",
   "metadata": {},
   "source": [
    "## Scalar Subquery\n",
    "\n",
    "- A **scalar subquery** is a subquery that returns a single value\n",
    "- List all departments along with the number of instructors in each department\n",
    "\n",
    "```sql\n",
    "select dept_name,\n",
    "    (select count(*)\n",
    "    from instructor\n",
    "    where instructor.dept_name = department.dept_name)\n",
    "    as num_instructors\n",
    "    from department;\n",
    "```\n",
    "- Runtime error if the subquery returns more than one result tuple"
   ]
  },
  {
   "cell_type": "markdown",
   "metadata": {},
   "source": [
    "## Modification of the Database\n",
    "\n",
    "- Deletion of tuples from a given relation\n",
    "- Insertion of new tuples into a given relation\n",
    "- Updating of values in some tuples in a given relation"
   ]
  },
  {
   "cell_type": "markdown",
   "metadata": {},
   "source": [
    "## Deletion\n",
    "\n",
    "- Delete all instructors\n",
    "\n",
    "    ```sql\n",
    "    delete from instructor;\n",
    "    ```\n",
    "\n",
    "- Delete all instructors from the Finance department\n",
    "\n",
    "    ```sql\n",
    "    delete from instructor\n",
    "    where dept_name = 'Finance';\n",
    "    ```\n",
    "\n",
    "- Delete all tuples in the instructor relation for those instructors associated with a department located in the Watson building\n",
    "\n",
    "    ```sql\n",
    "    delete from instructor\n",
    "    where dept_name in (select dept_name\n",
    "                        from department\n",
    "                        where building = 'Watson');\n",
    "    ```\n",
    "\n",
    "- Delete all instructors whose salary is less than the average of all instructors’ salaries\n",
    "\n",
    "    ```sql\n",
    "    delete from instructor\n",
    "    where salary < (select avg(salary)\n",
    "                    from instructor);\n",
    "    ```\n",
    "\n",
    "- **Problem**: as we delete tuples, the average salary changes\n",
    "- **Solution** used in SQL:\n",
    "  - First compute **avg**(salary) and find all tuples to be deleted\n",
    "  - Next, delete all tuples found above (without recomputing **avg** or retesting the tuples)"
   ]
  },
  {
   "cell_type": "markdown",
   "metadata": {},
   "source": [
    "## Insertion\n",
    "\n",
    "- Add a new typle to course\n",
    "\n",
    "    ```sql\n",
    "    insert into course\n",
    "    values ('CS-437', 'Database Systems', 'Comp. Sci.', 4);\n",
    "    ```\n",
    "\n",
    "- or equivalently\n",
    "\n",
    "    ```sql\n",
    "    insert into course (course_id, title, dept_name, credits)\n",
    "    values ('CS-437', 'Database Systems', 'Comp. Sci.', 4);\n",
    "    ```\n",
    "\n",
    "- Add a new tuple to student with tot_creds set to null\n",
    "\n",
    "    ```sql\n",
    "    insert into student\n",
    "    values ('3003', 'Green', 'Finance', null);\n",
    "    ```\n",
    "\n",
    "- Add all instructors to the student relation with tot_creds set to 0\n",
    "\n",
    "    ```sql\n",
    "    insert into student\n",
    "    select ID, name, dept_name, 0\n",
    "    from instructor;\n",
    "    ```\n",
    "\n",
    "- The **select-from-where** statement is evaluated fully before any of its results are inserted into the relation\n",
    "- Otherwise queries like\n",
    "\n",
    "    ```sql\n",
    "    insert into table1 select * from table1;\n",
    "    ```\n",
    "\n",
    "  would result in an infinite loop"
   ]
  },
  {
   "cell_type": "markdown",
   "metadata": {},
   "source": [
    "## Updates\n",
    "\n",
    "- Increase the salary of all instructors whose salary is over $100,00 by 3% and all others by 5%\n",
    "    - With two **update** statements\n",
    "  \n",
    "        ```sql\n",
    "        update instructor\n",
    "            set salary = salary * 1.03\n",
    "            where salary > 100000;\n",
    "        update instructor\n",
    "            set salary = salary * 1.05\n",
    "            where salary <= 100000;\n",
    "        ```\n",
    "\n",
    "- The order is important\n",
    "- Can be done better using the **case** statement"
   ]
  },
  {
   "cell_type": "markdown",
   "metadata": {},
   "source": [
    "## Case Statement for Conditional Updates\n",
    "\n",
    "- Same query as above using the **case** statement\n",
    "\n",
    "    ```sql\n",
    "    update instructor\n",
    "        set salary = case\n",
    "                    when salary <= 100000\n",
    "                    then salary * 1.05\n",
    "                    else salary * 1.03\n",
    "                    end;\n",
    "    ```"
   ]
  },
  {
   "cell_type": "markdown",
   "metadata": {},
   "source": [
    "## Updates with Scalar Subqueries\n",
    "\n",
    "- Recompute and update tot_creds value for all students\n",
    "    \n",
    "    ```sql\n",
    "    update student\n",
    "    set tot_creds = (select sum(credits)\n",
    "                    from takes, course\n",
    "                    where takes.course_id = course.course_id and\n",
    "                    S.ID = takes.ID and\n",
    "                    takes.grade <> 'F' and\n",
    "                    takes.grade is not null);\n",
    "    ```\n",
    "\n",
    "- Set tot_creds to null for all students who have not taken any courses\n",
    "- Instead of **sum**(credits), use:\n",
    "    \n",
    "    ```sql\n",
    "        case\n",
    "        when sum(credits) is not null then sum(credits)\n",
    "        else 0\n",
    "    end;\n",
    "    ```"
   ]
  },
  {
   "cell_type": "markdown",
   "metadata": {},
   "source": [
    "# Lecture 3.3: Intermediate SQL/2"
   ]
  },
  {
   "cell_type": "markdown",
   "metadata": {},
   "source": [
    "## Join Relations\n",
    "\n",
    "- **Join operations** take two relations and return as result another relation\n",
    "- A join operation is a Cartesian product which requires that tuples in the two relations match (under some condition)\n",
    "- It also specifies the attributes that are present in the result of the join\n",
    "- The join operations are typically used as subquery expressions in the **from** clause"
   ]
  },
  {
   "cell_type": "markdown",
   "metadata": {},
   "source": [
    "## Types of Joins between Relations\n",
    "- Cross join\n",
    "- Inner join\n",
    "  - Equi-join\n",
    "    - Natural join\n",
    "- Outer join\n",
    "  - Left outer join\n",
    "  - Right outer join\n",
    "  - Full outer join\n",
    "- Self-join"
   ]
  },
  {
   "cell_type": "markdown",
   "metadata": {},
   "source": [
    "## Cross Join\n",
    "\n",
    "- CROSS JOIN returns the Cartesian product of rows from tables in the join\n",
    "  - Explicit\n",
    "    ```sql\n",
    "    select *\n",
    "    from employee cross join department;\n",
    "    ```\n",
    "  - Implicit\n",
    "    ```sql\n",
    "    select *\n",
    "    from employee, department;\n",
    "    ```"
   ]
  },
  {
   "cell_type": "markdown",
   "metadata": {},
   "source": [
    "## Join Operations - Example\n",
    "\n",
    "- Relation course"
   ]
  },
  {
   "cell_type": "code",
   "execution_count": null,
   "metadata": {},
   "outputs": [],
   "source": [
    "course = %sql select * from course_3_3;"
   ]
  },
  {
   "cell_type": "code",
   "execution_count": 31,
   "metadata": {},
   "outputs": [
    {
     "data": {
      "text/html": [
       "<table>\n",
       "    <thead>\n",
       "        <tr>\n",
       "            <th>course_id</th>\n",
       "            <th>title</th>\n",
       "            <th>dept_name</th>\n",
       "            <th>credits</th>\n",
       "        </tr>\n",
       "    </thead>\n",
       "    <tbody>\n",
       "        <tr>\n",
       "            <td>BIO-301</td>\n",
       "            <td>Genetics</td>\n",
       "            <td>Biology</td>\n",
       "            <td>4</td>\n",
       "        </tr>\n",
       "        <tr>\n",
       "            <td>CS-190</td>\n",
       "            <td>Game Design</td>\n",
       "            <td>Comp. Sci.</td>\n",
       "            <td>4</td>\n",
       "        </tr>\n",
       "        <tr>\n",
       "            <td>CS-315</td>\n",
       "            <td>Robotics</td>\n",
       "            <td>Comp. Sci.</td>\n",
       "            <td>3</td>\n",
       "        </tr>\n",
       "    </tbody>\n",
       "</table>"
      ],
      "text/plain": [
       "[('BIO-301', 'Genetics', 'Biology', 4),\n",
       " ('CS-190', 'Game Design', 'Comp. Sci.', 4),\n",
       " ('CS-315', 'Robotics', 'Comp. Sci.', 3)]"
      ]
     },
     "execution_count": 31,
     "metadata": {},
     "output_type": "execute_result"
    }
   ],
   "source": [
    "course"
   ]
  },
  {
   "cell_type": "code",
   "execution_count": null,
   "metadata": {},
   "outputs": [],
   "source": [
    "prereq = %sql select * from prereq_3_3;"
   ]
  },
  {
   "cell_type": "markdown",
   "metadata": {},
   "source": [
    "- Relation prereq"
   ]
  },
  {
   "cell_type": "code",
   "execution_count": 35,
   "metadata": {},
   "outputs": [
    {
     "data": {
      "text/html": [
       "<table>\n",
       "    <thead>\n",
       "        <tr>\n",
       "            <th>course_id</th>\n",
       "            <th>prereq_id</th>\n",
       "        </tr>\n",
       "    </thead>\n",
       "    <tbody>\n",
       "        <tr>\n",
       "            <td>BIO-301</td>\n",
       "            <td>BIO-101</td>\n",
       "        </tr>\n",
       "        <tr>\n",
       "            <td>CS-190</td>\n",
       "            <td>CS-101</td>\n",
       "        </tr>\n",
       "        <tr>\n",
       "            <td>CS-347</td>\n",
       "            <td>CS-101</td>\n",
       "        </tr>\n",
       "    </tbody>\n",
       "</table>"
      ],
      "text/plain": [
       "[('BIO-301', 'BIO-101'), ('CS-190', 'CS-101'), ('CS-347', 'CS-101')]"
      ]
     },
     "execution_count": 35,
     "metadata": {},
     "output_type": "execute_result"
    }
   ],
   "source": [
    "prereq"
   ]
  },
  {
   "cell_type": "markdown",
   "metadata": {},
   "source": [
    "- Observe that\n",
    "  - prereq information is missing for course CS-315, and\n",
    "  - course information is missing for CS-347"
   ]
  },
  {
   "cell_type": "markdown",
   "metadata": {},
   "source": [
    "## Inner Join\n",
    "\n",
    "- course **inner join** prereq"
   ]
  },
  {
   "cell_type": "code",
   "execution_count": null,
   "metadata": {},
   "outputs": [],
   "source": [
    "inner_join = %sql select * from course_3_3 INNER JOIN prereq_3_3 on prereq_3_3.course_id = course_3_3.course_id;"
   ]
  },
  {
   "cell_type": "code",
   "execution_count": 41,
   "metadata": {},
   "outputs": [
    {
     "data": {
      "text/html": [
       "<table>\n",
       "    <thead>\n",
       "        <tr>\n",
       "            <th>course_id</th>\n",
       "            <th>title</th>\n",
       "            <th>dept_name</th>\n",
       "            <th>credits</th>\n",
       "            <th>course_id_1</th>\n",
       "            <th>prereq_id</th>\n",
       "        </tr>\n",
       "    </thead>\n",
       "    <tbody>\n",
       "        <tr>\n",
       "            <td>BIO-301</td>\n",
       "            <td>Genetics</td>\n",
       "            <td>Biology</td>\n",
       "            <td>4</td>\n",
       "            <td>BIO-301</td>\n",
       "            <td>BIO-101</td>\n",
       "        </tr>\n",
       "        <tr>\n",
       "            <td>CS-190</td>\n",
       "            <td>Game Design</td>\n",
       "            <td>Comp. Sci.</td>\n",
       "            <td>4</td>\n",
       "            <td>CS-190</td>\n",
       "            <td>CS-101</td>\n",
       "        </tr>\n",
       "    </tbody>\n",
       "</table>"
      ],
      "text/plain": [
       "[('BIO-301', 'Genetics', 'Biology', 4, 'BIO-301', 'BIO-101'),\n",
       " ('CS-190', 'Game Design', 'Comp. Sci.', 4, 'CS-190', 'CS-101')]"
      ]
     },
     "execution_count": 41,
     "metadata": {},
     "output_type": "execute_result"
    }
   ],
   "source": [
    "inner_join"
   ]
  },
  {
   "cell_type": "markdown",
   "metadata": {},
   "source": [
    "- If specified as **natural**, the join is on all attributes with the same name"
   ]
  },
  {
   "cell_type": "code",
   "execution_count": null,
   "metadata": {},
   "outputs": [],
   "source": [
    "natural_join = %sql select * from course_3_3 NATURAL JOIN prereq_3_3;"
   ]
  },
  {
   "cell_type": "code",
   "execution_count": 43,
   "metadata": {},
   "outputs": [
    {
     "data": {
      "text/html": [
       "<table>\n",
       "    <thead>\n",
       "        <tr>\n",
       "            <th>course_id</th>\n",
       "            <th>title</th>\n",
       "            <th>dept_name</th>\n",
       "            <th>credits</th>\n",
       "            <th>prereq_id</th>\n",
       "        </tr>\n",
       "    </thead>\n",
       "    <tbody>\n",
       "        <tr>\n",
       "            <td>BIO-301</td>\n",
       "            <td>Genetics</td>\n",
       "            <td>Biology</td>\n",
       "            <td>4</td>\n",
       "            <td>BIO-101</td>\n",
       "        </tr>\n",
       "        <tr>\n",
       "            <td>CS-190</td>\n",
       "            <td>Game Design</td>\n",
       "            <td>Comp. Sci.</td>\n",
       "            <td>4</td>\n",
       "            <td>CS-101</td>\n",
       "        </tr>\n",
       "    </tbody>\n",
       "</table>"
      ],
      "text/plain": [
       "[('BIO-301', 'Genetics', 'Biology', 4, 'BIO-101'),\n",
       " ('CS-190', 'Game Design', 'Comp. Sci.', 4, 'CS-101')]"
      ]
     },
     "execution_count": 43,
     "metadata": {},
     "output_type": "execute_result"
    }
   ],
   "source": [
    "natural_join"
   ]
  },
  {
   "cell_type": "markdown",
   "metadata": {},
   "source": [
    "## Outer Join\n",
    "\n",
    "- An extension of the join operation that avoids loss of information\n",
    "- Computes the join and then adds tuples from one relation that does not match tuples in the other relation to the result of the join\n",
    "- Uses *null* values, which is None in Python"
   ]
  },
  {
   "cell_type": "markdown",
   "metadata": {},
   "source": [
    "## Left Outer Join\n",
    "\n",
    "- course **left outer join** prereq"
   ]
  },
  {
   "cell_type": "code",
   "execution_count": null,
   "metadata": {},
   "outputs": [],
   "source": [
    "loj = %sql select * from course_3_3 LEFT OUTER JOIN prereq_3_3 on prereq_3_3.course_id = course_3_3.course_id;"
   ]
  },
  {
   "cell_type": "code",
   "execution_count": 45,
   "metadata": {},
   "outputs": [
    {
     "data": {
      "text/html": [
       "<table>\n",
       "    <thead>\n",
       "        <tr>\n",
       "            <th>course_id</th>\n",
       "            <th>title</th>\n",
       "            <th>dept_name</th>\n",
       "            <th>credits</th>\n",
       "            <th>course_id_1</th>\n",
       "            <th>prereq_id</th>\n",
       "        </tr>\n",
       "    </thead>\n",
       "    <tbody>\n",
       "        <tr>\n",
       "            <td>BIO-301</td>\n",
       "            <td>Genetics</td>\n",
       "            <td>Biology</td>\n",
       "            <td>4</td>\n",
       "            <td>BIO-301</td>\n",
       "            <td>BIO-101</td>\n",
       "        </tr>\n",
       "        <tr>\n",
       "            <td>CS-190</td>\n",
       "            <td>Game Design</td>\n",
       "            <td>Comp. Sci.</td>\n",
       "            <td>4</td>\n",
       "            <td>CS-190</td>\n",
       "            <td>CS-101</td>\n",
       "        </tr>\n",
       "        <tr>\n",
       "            <td>CS-315</td>\n",
       "            <td>Robotics</td>\n",
       "            <td>Comp. Sci.</td>\n",
       "            <td>3</td>\n",
       "            <td>None</td>\n",
       "            <td>None</td>\n",
       "        </tr>\n",
       "    </tbody>\n",
       "</table>"
      ],
      "text/plain": [
       "[('BIO-301', 'Genetics', 'Biology', 4, 'BIO-301', 'BIO-101'),\n",
       " ('CS-190', 'Game Design', 'Comp. Sci.', 4, 'CS-190', 'CS-101'),\n",
       " ('CS-315', 'Robotics', 'Comp. Sci.', 3, None, None)]"
      ]
     },
     "execution_count": 45,
     "metadata": {},
     "output_type": "execute_result"
    }
   ],
   "source": [
    "loj"
   ]
  },
  {
   "cell_type": "markdown",
   "metadata": {},
   "source": [
    "## Right Outer Join\n",
    "\n",
    "- course **right outer join** prereq"
   ]
  },
  {
   "cell_type": "code",
   "execution_count": null,
   "metadata": {},
   "outputs": [],
   "source": [
    "roj = %sql select * from course_3_3 RIGHT OUTER JOIN prereq_3_3 on prereq_3_3.course_id = course_3_3.course_id;"
   ]
  },
  {
   "cell_type": "code",
   "execution_count": 47,
   "metadata": {},
   "outputs": [
    {
     "data": {
      "text/html": [
       "<table>\n",
       "    <thead>\n",
       "        <tr>\n",
       "            <th>course_id</th>\n",
       "            <th>title</th>\n",
       "            <th>dept_name</th>\n",
       "            <th>credits</th>\n",
       "            <th>course_id_1</th>\n",
       "            <th>prereq_id</th>\n",
       "        </tr>\n",
       "    </thead>\n",
       "    <tbody>\n",
       "        <tr>\n",
       "            <td>BIO-301</td>\n",
       "            <td>Genetics</td>\n",
       "            <td>Biology</td>\n",
       "            <td>4</td>\n",
       "            <td>BIO-301</td>\n",
       "            <td>BIO-101</td>\n",
       "        </tr>\n",
       "        <tr>\n",
       "            <td>CS-190</td>\n",
       "            <td>Game Design</td>\n",
       "            <td>Comp. Sci.</td>\n",
       "            <td>4</td>\n",
       "            <td>CS-190</td>\n",
       "            <td>CS-101</td>\n",
       "        </tr>\n",
       "        <tr>\n",
       "            <td>None</td>\n",
       "            <td>None</td>\n",
       "            <td>None</td>\n",
       "            <td>None</td>\n",
       "            <td>CS-347</td>\n",
       "            <td>CS-101</td>\n",
       "        </tr>\n",
       "    </tbody>\n",
       "</table>"
      ],
      "text/plain": [
       "[('BIO-301', 'Genetics', 'Biology', 4, 'BIO-301', 'BIO-101'),\n",
       " ('CS-190', 'Game Design', 'Comp. Sci.', 4, 'CS-190', 'CS-101'),\n",
       " (None, None, None, None, 'CS-347', 'CS-101')]"
      ]
     },
     "execution_count": 47,
     "metadata": {},
     "output_type": "execute_result"
    }
   ],
   "source": [
    "roj"
   ]
  },
  {
   "cell_type": "markdown",
   "metadata": {},
   "source": [
    "## Joined Relations\n",
    "\n",
    "- Join operations take two relations and return as a result another relation\n",
    "\n",
    "- These additional operations are typically used as subquery expressions in the **from** clause\n",
    "\n",
    "- *Join condition* – defines which tuples in the two relations match, and what attributes are present in the result of the join\n",
    "  ```sql\n",
    "    natural\n",
    "    on <predicate>\n",
    "    using (attr1, attr2, ...)\n",
    "  ```\n",
    "\n",
    "- *Join type* – defines how tuples in each relation that do not match any tuple in the other\n",
    "relation (based on the join condition) are treated\n",
    "  ```sql\n",
    "    inner join\n",
    "    left outer join\n",
    "    right outer join\n",
    "    full outer join\n",
    "  ```"
   ]
  },
  {
   "cell_type": "markdown",
   "metadata": {},
   "source": [
    "## Full Outer Join\n",
    "\n",
    "- course **full outer join** prereq"
   ]
  },
  {
   "cell_type": "code",
   "execution_count": null,
   "metadata": {},
   "outputs": [],
   "source": [
    "foj = %sql select * from course_3_3 FULL OUTER JOIN prereq_3_3 on prereq_3_3.course_id = course_3_3.course_id;"
   ]
  },
  {
   "cell_type": "code",
   "execution_count": 49,
   "metadata": {},
   "outputs": [
    {
     "data": {
      "text/html": [
       "<table>\n",
       "    <thead>\n",
       "        <tr>\n",
       "            <th>course_id</th>\n",
       "            <th>title</th>\n",
       "            <th>dept_name</th>\n",
       "            <th>credits</th>\n",
       "            <th>course_id_1</th>\n",
       "            <th>prereq_id</th>\n",
       "        </tr>\n",
       "    </thead>\n",
       "    <tbody>\n",
       "        <tr>\n",
       "            <td>BIO-301</td>\n",
       "            <td>Genetics</td>\n",
       "            <td>Biology</td>\n",
       "            <td>4</td>\n",
       "            <td>BIO-301</td>\n",
       "            <td>BIO-101</td>\n",
       "        </tr>\n",
       "        <tr>\n",
       "            <td>CS-190</td>\n",
       "            <td>Game Design</td>\n",
       "            <td>Comp. Sci.</td>\n",
       "            <td>4</td>\n",
       "            <td>CS-190</td>\n",
       "            <td>CS-101</td>\n",
       "        </tr>\n",
       "        <tr>\n",
       "            <td>CS-315</td>\n",
       "            <td>Robotics</td>\n",
       "            <td>Comp. Sci.</td>\n",
       "            <td>3</td>\n",
       "            <td>None</td>\n",
       "            <td>None</td>\n",
       "        </tr>\n",
       "        <tr>\n",
       "            <td>None</td>\n",
       "            <td>None</td>\n",
       "            <td>None</td>\n",
       "            <td>None</td>\n",
       "            <td>CS-347</td>\n",
       "            <td>CS-101</td>\n",
       "        </tr>\n",
       "    </tbody>\n",
       "</table>"
      ],
      "text/plain": [
       "[('BIO-301', 'Genetics', 'Biology', 4, 'BIO-301', 'BIO-101'),\n",
       " ('CS-190', 'Game Design', 'Comp. Sci.', 4, 'CS-190', 'CS-101'),\n",
       " ('CS-315', 'Robotics', 'Comp. Sci.', 3, None, None),\n",
       " (None, None, None, None, 'CS-347', 'CS-101')]"
      ]
     },
     "execution_count": 49,
     "metadata": {},
     "output_type": "execute_result"
    }
   ],
   "source": [
    "foj"
   ]
  },
  {
   "cell_type": "markdown",
   "metadata": {},
   "source": [
    "## Joining Relations - Examples\n",
    "\n",
    "- course **inner join** prereq **on**\n",
    "  \n",
    "  course.course_id = prereq.course_id"
   ]
  },
  {
   "cell_type": "code",
   "execution_count": null,
   "metadata": {},
   "outputs": [],
   "source": [
    "ij = %sql select * from course_3_3 INNER JOIN prereq_3_3 on prereq_3_3.course_id = course_3_3.course_id;"
   ]
  },
  {
   "cell_type": "code",
   "execution_count": 51,
   "metadata": {},
   "outputs": [
    {
     "data": {
      "text/html": [
       "<table>\n",
       "    <thead>\n",
       "        <tr>\n",
       "            <th>course_id</th>\n",
       "            <th>title</th>\n",
       "            <th>dept_name</th>\n",
       "            <th>credits</th>\n",
       "            <th>course_id_1</th>\n",
       "            <th>prereq_id</th>\n",
       "        </tr>\n",
       "    </thead>\n",
       "    <tbody>\n",
       "        <tr>\n",
       "            <td>BIO-301</td>\n",
       "            <td>Genetics</td>\n",
       "            <td>Biology</td>\n",
       "            <td>4</td>\n",
       "            <td>BIO-301</td>\n",
       "            <td>BIO-101</td>\n",
       "        </tr>\n",
       "        <tr>\n",
       "            <td>CS-190</td>\n",
       "            <td>Game Design</td>\n",
       "            <td>Comp. Sci.</td>\n",
       "            <td>4</td>\n",
       "            <td>CS-190</td>\n",
       "            <td>CS-101</td>\n",
       "        </tr>\n",
       "    </tbody>\n",
       "</table>"
      ],
      "text/plain": [
       "[('BIO-301', 'Genetics', 'Biology', 4, 'BIO-301', 'BIO-101'),\n",
       " ('CS-190', 'Game Design', 'Comp. Sci.', 4, 'CS-190', 'CS-101')]"
      ]
     },
     "execution_count": 51,
     "metadata": {},
     "output_type": "execute_result"
    }
   ],
   "source": [
    "ij"
   ]
  },
  {
   "cell_type": "markdown",
   "metadata": {},
   "source": [
    "- What is the difference between the above (equi-join) and the natural join?\n",
    "\n",
    "- course **left outer join** prereq **on**\n",
    "  \n",
    "  course.course_id = prereq.course_id"
   ]
  },
  {
   "cell_type": "code",
   "execution_count": 52,
   "metadata": {},
   "outputs": [
    {
     "data": {
      "text/html": [
       "<table>\n",
       "    <thead>\n",
       "        <tr>\n",
       "            <th>course_id</th>\n",
       "            <th>title</th>\n",
       "            <th>dept_name</th>\n",
       "            <th>credits</th>\n",
       "            <th>course_id_1</th>\n",
       "            <th>prereq_id</th>\n",
       "        </tr>\n",
       "    </thead>\n",
       "    <tbody>\n",
       "        <tr>\n",
       "            <td>BIO-301</td>\n",
       "            <td>Genetics</td>\n",
       "            <td>Biology</td>\n",
       "            <td>4</td>\n",
       "            <td>BIO-301</td>\n",
       "            <td>BIO-101</td>\n",
       "        </tr>\n",
       "        <tr>\n",
       "            <td>CS-190</td>\n",
       "            <td>Game Design</td>\n",
       "            <td>Comp. Sci.</td>\n",
       "            <td>4</td>\n",
       "            <td>CS-190</td>\n",
       "            <td>CS-101</td>\n",
       "        </tr>\n",
       "        <tr>\n",
       "            <td>CS-315</td>\n",
       "            <td>Robotics</td>\n",
       "            <td>Comp. Sci.</td>\n",
       "            <td>3</td>\n",
       "            <td>None</td>\n",
       "            <td>None</td>\n",
       "        </tr>\n",
       "    </tbody>\n",
       "</table>"
      ],
      "text/plain": [
       "[('BIO-301', 'Genetics', 'Biology', 4, 'BIO-301', 'BIO-101'),\n",
       " ('CS-190', 'Game Design', 'Comp. Sci.', 4, 'CS-190', 'CS-101'),\n",
       " ('CS-315', 'Robotics', 'Comp. Sci.', 3, None, None)]"
      ]
     },
     "execution_count": 52,
     "metadata": {},
     "output_type": "execute_result"
    }
   ],
   "source": [
    "loj"
   ]
  },
  {
   "cell_type": "markdown",
   "metadata": {},
   "source": [
    "- course **natural right outer join** prereq"
   ]
  },
  {
   "cell_type": "code",
   "execution_count": null,
   "metadata": {},
   "outputs": [],
   "source": [
    "nroj = %sql select * from course_3_3 NATURAL RIGHT OUTER JOIN prereq_3_3;"
   ]
  },
  {
   "cell_type": "code",
   "execution_count": 54,
   "metadata": {},
   "outputs": [
    {
     "data": {
      "text/html": [
       "<table>\n",
       "    <thead>\n",
       "        <tr>\n",
       "            <th>course_id</th>\n",
       "            <th>title</th>\n",
       "            <th>dept_name</th>\n",
       "            <th>credits</th>\n",
       "            <th>prereq_id</th>\n",
       "        </tr>\n",
       "    </thead>\n",
       "    <tbody>\n",
       "        <tr>\n",
       "            <td>BIO-301</td>\n",
       "            <td>Genetics</td>\n",
       "            <td>Biology</td>\n",
       "            <td>4</td>\n",
       "            <td>BIO-101</td>\n",
       "        </tr>\n",
       "        <tr>\n",
       "            <td>CS-190</td>\n",
       "            <td>Game Design</td>\n",
       "            <td>Comp. Sci.</td>\n",
       "            <td>4</td>\n",
       "            <td>CS-101</td>\n",
       "        </tr>\n",
       "        <tr>\n",
       "            <td>CS-347</td>\n",
       "            <td>None</td>\n",
       "            <td>None</td>\n",
       "            <td>None</td>\n",
       "            <td>CS-101</td>\n",
       "        </tr>\n",
       "    </tbody>\n",
       "</table>"
      ],
      "text/plain": [
       "[('BIO-301', 'Genetics', 'Biology', 4, 'BIO-101'),\n",
       " ('CS-190', 'Game Design', 'Comp. Sci.', 4, 'CS-101'),\n",
       " ('CS-347', None, None, None, 'CS-101')]"
      ]
     },
     "execution_count": 54,
     "metadata": {},
     "output_type": "execute_result"
    }
   ],
   "source": [
    "nroj"
   ]
  },
  {
   "cell_type": "markdown",
   "metadata": {},
   "source": [
    "- course **full outer join** prereq **using** (course_id)"
   ]
  },
  {
   "cell_type": "code",
   "execution_count": null,
   "metadata": {},
   "outputs": [],
   "source": [
    "foj2 = %sql select * from course_3_3 NATURAL FULL OUTER JOIN prereq_3_3;"
   ]
  },
  {
   "cell_type": "code",
   "execution_count": 63,
   "metadata": {},
   "outputs": [
    {
     "data": {
      "text/html": [
       "<table>\n",
       "    <thead>\n",
       "        <tr>\n",
       "            <th>course_id</th>\n",
       "            <th>title</th>\n",
       "            <th>dept_name</th>\n",
       "            <th>credits</th>\n",
       "            <th>prereq_id</th>\n",
       "        </tr>\n",
       "    </thead>\n",
       "    <tbody>\n",
       "        <tr>\n",
       "            <td>BIO-301</td>\n",
       "            <td>Genetics</td>\n",
       "            <td>Biology</td>\n",
       "            <td>4</td>\n",
       "            <td>BIO-101</td>\n",
       "        </tr>\n",
       "        <tr>\n",
       "            <td>CS-190</td>\n",
       "            <td>Game Design</td>\n",
       "            <td>Comp. Sci.</td>\n",
       "            <td>4</td>\n",
       "            <td>CS-101</td>\n",
       "        </tr>\n",
       "        <tr>\n",
       "            <td>CS-315</td>\n",
       "            <td>Robotics</td>\n",
       "            <td>Comp. Sci.</td>\n",
       "            <td>3</td>\n",
       "            <td>None</td>\n",
       "        </tr>\n",
       "        <tr>\n",
       "            <td>CS-347</td>\n",
       "            <td>None</td>\n",
       "            <td>None</td>\n",
       "            <td>None</td>\n",
       "            <td>CS-101</td>\n",
       "        </tr>\n",
       "    </tbody>\n",
       "</table>"
      ],
      "text/plain": [
       "[('BIO-301', 'Genetics', 'Biology', 4, 'BIO-101'),\n",
       " ('CS-190', 'Game Design', 'Comp. Sci.', 4, 'CS-101'),\n",
       " ('CS-315', 'Robotics', 'Comp. Sci.', 3, None),\n",
       " ('CS-347', None, None, None, 'CS-101')]"
      ]
     },
     "execution_count": 63,
     "metadata": {},
     "output_type": "execute_result"
    }
   ],
   "source": [
    "foj2"
   ]
  },
  {
   "cell_type": "markdown",
   "metadata": {},
   "source": [
    "## Views\n",
    "\n",
    "- In some cases, it is not desirable for all users to see the entire logical model (that is, all the actual relations stored in the database.)\n",
    "\n",
    "- Consider a person who needs to know an instructors name and department, but not the salary. This person should see a relation described, in SQL, by:\n",
    "\n",
    "  ```sql\n",
    "  select ID, name, dept_name\n",
    "  from instructor;\n",
    "  ```\n",
    "\n",
    "- A **view** provides a mechanism to hide certain data from the view of certain users\n",
    "\n",
    "- Any relation that is not of the conceptual model but is made visible to a user as a \"virtual relation\" is called a **view**."
   ]
  },
  {
   "cell_type": "markdown",
   "metadata": {},
   "source": [
    "##  View Definition\n",
    "\n",
    "- A view is defined using the create view statement which has the form\n",
    "\n",
    "      create view v as < query expression >\n",
    "  where < query expression > is any legal SQL expression\n",
    "\n",
    "- The view name is represented by v\n",
    "\n",
    "- Once a view is defined, the view name can be used to refer to the virtual relation that the view generates\n",
    "\n",
    "- View definition is not the same as creating a new relation by evaluating the query expression\n",
    "\n",
    "  - Rather, a view definition causes the saving of an expression; the expression is substituted into queries using the view"
   ]
  },
  {
   "cell_type": "markdown",
   "metadata": {},
   "source": [
    "## Example Views\n",
    "\n",
    "- A view of instructors without their salary \n",
    "\n",
    "    ```sql\n",
    "    create view faculty as\n",
    "    select ID, name, dept_name\n",
    "    from instructor;\n",
    "    ```\n",
    "\n",
    "- A view of all instructors in the Biology department\n",
    "\n",
    "    ```sql\n",
    "    select name\n",
    "        from faculty\n",
    "        where dept_name = 'Biology';\n",
    "    ```\n",
    "\n",
    "- Create a view of department salary totals\n",
    "\n",
    "    ```sql\n",
    "    create view departments_total_salary(dept_name, total_salary) as\n",
    "        select dept_name, sum(salary)\n",
    "        from instructor\n",
    "        group by dept_name;\n",
    "    ```"
   ]
  },
  {
   "cell_type": "markdown",
   "metadata": {},
   "source": [
    "## Views Defined Using Other Views\n",
    "\n",
    "```sql\n",
    "    create view physics_fall_2009 as\n",
    "        select course.course_id, sec_id, building, room_number\n",
    "        from course, section\n",
    "        where course.course_id = section.course_id\n",
    "            and course.dept_name = 'Physics'\n",
    "            and section.semester = 'Fall'\n",
    "            and section.year = 2009;\n",
    "```\n",
    "\n",
    "\n",
    "```sql\n",
    "    create view physics_fall_2009_watson as\n",
    "        select course_id, room_number\n",
    "        from physics_fall_2009\n",
    "        where building = 'Watson';\n",
    "```"
   ]
  },
  {
   "cell_type": "markdown",
   "metadata": {},
   "source": [
    "## View Expansion\n",
    "\n",
    "- Expand use of a view in a query/another view\n",
    "\n",
    "```sql\n",
    "    create view physics_fall_2009_watson as\n",
    "        (select course_id, room_number\n",
    "        from (select course.course_id, building, room_number\n",
    "            from course, section\n",
    "            where course.course_id = section.course_id\n",
    "                and course.dept_name = 'Physics'\n",
    "                and section.semester = 'Fall'\n",
    "                and section.year = 2009)\n",
    "        where building = 'Watson');\n",
    "```"
   ]
  },
  {
   "cell_type": "markdown",
   "metadata": {},
   "source": [
    "-   One view may be used in the expression defining another view\n",
    "\n",
    "-   A view relation $v_1$ is said to [*depend directly*]{.underline} on a view relation $v_2$ if $v_2$ is used in the expression defining $v_1$\n",
    "\n",
    "-   A view relation $v_1$ is said to [*depend on*]{.underline} view relation $v_2$ if either $v_1$ depends directly on $v_2$ or there is a path of dependencies from $v_1$ to $v_2$\n",
    "\n",
    "-   A view relation v is said to be [*recursive*]{.underline} if it depends on itself"
   ]
  },
  {
   "cell_type": "markdown",
   "metadata": {},
   "source": [
    "- A way to define the meaning of views defined in terms of other views\n",
    "\n",
    "- Let view $v_1$ be defined by an expression $e_1$ that may itself contain uses of view relations\n",
    "\n",
    "- View expansion of an expression repeats the following replacement step:\n",
    "  \n",
    "    **repeat**\n",
    "\n",
    "    - Find any view relation $v_i$ in $e_1$\n",
    "    - Replace the view relation $v_i$ by the expression defining $v_i$ \n",
    "                 \n",
    "    **until** no more view relations are present in $e_1$\n",
    "\n",
    "- As long as the view definitions are not recursive, this loop will terminate"
   ]
  },
  {
   "cell_type": "markdown",
   "metadata": {},
   "source": [
    "## Update of a View\n",
    "\n",
    "- Add a new tuple to *faculty* view which we defined earlier\n",
    "  ```sql\n",
    "      insert into faculty values (’30765’, ’Green’, ’Music’);\n",
    "  ```\n",
    "\n",
    "- This insertion must be represented by the insertion of the tuple\n",
    "  ```sql\n",
    "    (’30765’, ’Green’, ’Music’, null)\n",
    "  ```\n",
    "  into the instructor relation\n"
   ]
  },
  {
   "cell_type": "markdown",
   "metadata": {},
   "source": [
    "## Some Updates cannot be Translated Uniquely\n",
    "\n",
    "- ```sql\n",
    "    create view instructor_info as\n",
    "        select ID, name, building\n",
    "        from instructor, department\n",
    "        where instructor.dept_name = department.dept_name;\n",
    "  ```\n",
    "\n",
    "- ```sql\n",
    "    insert into instructor info values ('69987', 'White', 'Taylor');\n",
    "  ```  \n",
    "  - which department, if multiple departments in Taylor?\n",
    "  - what if no department is in Taylor?\n",
    "\n",
    "- Most SQL implementations allow updates only on simple views\n",
    "  - The **from** clause has only one database relation\n",
    "  - The **select** clause contains only attribute names of the relation, and does not have any expressions aggregates, or **distinct** specification\n",
    "  - Any attribute not listed in the **select** clause can be set to null\n",
    "  - The query does not have a **group by** or **having** clause"
   ]
  },
  {
   "cell_type": "markdown",
   "metadata": {},
   "source": [
    "## And Some Not at All\n",
    "\n",
    "- ```sql\n",
    "    create view history_instructors as\n",
    "        select *\n",
    "        from instructor\n",
    "        where dept_name = 'History';\n",
    "  ```\n",
    "\n",
    "- What happens if we insert (’25566’, ’Brown’, ’Biology’, 100000) into history_instructors?"
   ]
  },
  {
   "cell_type": "markdown",
   "metadata": {},
   "source": [
    "## Materialized Views\n",
    "\n",
    "- **Materializing a view**: create a physical table containing all the tuples in the result of the query defining the view\n",
    "\n",
    "- If relations used in the query are updated, the materialized view result becomes out of date\n",
    "\n",
    "  - Need to **maintain** the view, by updating the view whenever the underlying relations are updated"
   ]
  },
  {
   "cell_type": "markdown",
   "metadata": {},
   "source": [
    "# Lecture 3.4: Intermediate SQL/3"
   ]
  },
  {
   "cell_type": "markdown",
   "metadata": {},
   "source": [
    "## Transactions\n",
    "\n",
    "- Unit of work\n",
    "- Atomic transaction\n",
    "  - either fully executed or rolled back as if it never happened\n",
    "- Isolation from concurrent transactions\n",
    "- Transactions begin implicitly\n",
    "  - End by **commit work** or **rollback work**\n",
    "- But default on most databases: each SQL statement commits automatically\n",
    "  - Can turn off auto-commit for a session (for example, using API)\n",
    "  - In SQL:1999, can use: **begin atomic ... end**\n",
    "    - Not supported on most databases"
   ]
  },
  {
   "cell_type": "markdown",
   "metadata": {},
   "source": [
    "## Integrity Constraints\n",
    "\n",
    "- Integrity constraints guard against accidental damage to the database, by ensuring that authorized changes to the database do not result in a loss of data consistency\n",
    "  - A checking account must have a balance greater than Rs. 10,000.00\n",
    "  - A salary of a bank employee must be at least Rs. 250.00 an hour\n",
    "  - A customer must have a (non-null) phone number"
   ]
  },
  {
   "cell_type": "markdown",
   "metadata": {},
   "source": [
    "## Integrity Constraints on a Single Relation\n",
    "\n",
    "- **not null**\n",
    "- **primary key**\n",
    "- **unique**\n",
    "- **check**(P), where P is a predicate"
   ]
  },
  {
   "cell_type": "markdown",
   "metadata": {},
   "source": [
    "## Not Null and Unique Constraints\n",
    "\n",
    "- **not null**\n",
    "  - Declare name and budget to be not null\n",
    "    ```sql\n",
    "    name varchar(20) not null,\n",
    "    budget numeric(12, 2) not null\n",
    "    ```\n",
    "\n",
    "- **unique** $(A_1, A_2, ..., A_m)$\n",
    "  - The unique specification states that the attributes $A_1, A_2, ..., A_m$ form a candidate key\n",
    "  - Candidate keys are permeitted to be null (unlike primary keys)"
   ]
  },
  {
   "cell_type": "markdown",
   "metadata": {},
   "source": [
    "## The check clause\n",
    "\n",
    "- **check**(P), where P is a predicate\n",
    "- Ensure that semester is one of fall, winter, spring, or summer:\n",
    "  ```sql\n",
    "  create table section (\n",
    "    course_id varchar(8),\n",
    "    sec_id varchar(8),\n",
    "    semester varchar(6),\n",
    "    year numeric(4, 0),\n",
    "    building varchar(15),\n",
    "    room_number varchar(7),\n",
    "    time_slot_id varchar(4),\n",
    "    primary key (course_id, sec_id, semester, year),\n",
    "    check (semester in ('fall', 'winter', 'spring', 'summer'))\n",
    "  );\n",
    "  ```\n",
    "  "
   ]
  },
  {
   "cell_type": "markdown",
   "metadata": {},
   "source": [
    "## Referential Integrity\n",
    "\n",
    "- Ensures that a value that appears in one relation for a given set of attributes also appears for a certain set of attributes in another relation\n",
    "\n",
    "- Example: If “Biology” is a department name appearing in one of the tuples in the instructor relation, then there exists a tuple in the department relation for “Biology”\n",
    "\n",
    "- Let A be a set of attributes. Let R and S be two relations that contain attributes A and where A is the primary key of S. A is said to be a **foreign key** of R if for any values of A appearing in R these values also appear in S"
   ]
  },
  {
   "cell_type": "markdown",
   "metadata": {},
   "source": [
    "## Cascading Actions in Referential Integrity\n",
    "\n",
    "- With cascading, you can define the actions that the Database Engine takes when a user tries to delete or update a key to which existing foreign keys point\n",
    "\n",
    "- ```sql\n",
    "    create table course (\n",
    "        course_id char(5) primary key,\n",
    "        title varchar(20),\n",
    "        dept_name varchar(20) references department\n",
    "    );\n",
    "  ```\n",
    "\n",
    "- ```sql\n",
    "    create table course (\n",
    "        ...\n",
    "        dept_name varchar(20),\n",
    "        foreign key (dept_name) references department\n",
    "            on delete cascade\n",
    "            on update cascade,\n",
    "        ...\n",
    "    );\n",
    "  ```\n",
    "\n",
    "- Alternative actions to cascade: **no action**, **set null**, **set default**"
   ]
  },
  {
   "cell_type": "markdown",
   "metadata": {},
   "source": [
    "## Integrity Constraint Violation During Transactions\n",
    "\n",
    "- ```sql\n",
    "    create table person (\n",
    "        ID char(10),\n",
    "        name char(40),\n",
    "        mother char(10),\n",
    "        father char(10),\n",
    "        primary key ID,\n",
    "        foreign key father references person,\n",
    "        foreign key mother references person)\n",
    "  ```\n",
    "\n",
    "- How to insert a tuple without causing constraint violation?\n",
    "  - Insert father and mother of a person before inserting person\n",
    "  - OR, Set father and mother to null initially, update after inserting all persons (not possible if father and mother attributes declared to be not null)\n",
    "  - OR Defer constraint checking (will discuss later)"
   ]
  },
  {
   "cell_type": "markdown",
   "metadata": {},
   "source": [
    "## Built-in Data Types in SQL\n",
    "\n",
    "- **date**: Dates, containing a (4 digit) year, month and date\n",
    "  - Example: **date** '2005-7-27'\n",
    "\n",
    "- **time**: Time of day, in hours, minutes and seconds.\n",
    "  - Example: **time** '09:00:30' time '09:00:30.75'\n",
    "\n",
    "- **timestamp**: date plus time of day\n",
    "  - Example: **timestamp** '2005-7-27 09:00:30.75'\n",
    "\n",
    "- **interval**: period of time\n",
    "  - Example: **interval** '1' day\n",
    "  - Subtracting a date/time/timestamp value from another gives an interval value\n",
    "  - Interval values can be added to date/time/timestamp values\n"
   ]
  },
  {
   "cell_type": "markdown",
   "metadata": {},
   "source": [
    "## Index Creation\n",
    "\n",
    "- ```sql\n",
    "    create table student(ID varchar(5),\n",
    "    name varchar(20) not null,\n",
    "    dept_name varchar(20),\n",
    "    tot cred numeric (3,0) default 0,\n",
    "    primary key (ID))\n",
    "  ```\n",
    "\n",
    "- create index studentID index on student(ID)\n",
    "\n",
    "- Indices are data structures used to speed up access to records with specified values for index attributes\n",
    "  ```sql\n",
    "    select *\n",
    "    from student\n",
    "    where ID = '12345'\n",
    "  ```\n",
    "  - Can be executed by using the index to find the required record, without looking at all records of student"
   ]
  },
  {
   "cell_type": "markdown",
   "metadata": {},
   "source": [
    "## User Defined Types\n",
    "\n",
    "- **create type** construct in SQL creates user-defined type (alias, like typedef in C)\n",
    "  ```sql\n",
    "    create type Dollars as numeric (12,2) final\n",
    "  ```\n",
    "\n",
    "- ```sql\n",
    "    create table department (\n",
    "        dept_name varchar (20),\n",
    "        building varchar (15),\n",
    "        budget Dollars\n",
    "    );\n",
    "  ```"
   ]
  },
  {
   "cell_type": "markdown",
   "metadata": {},
   "source": [
    "## Domains\n",
    "\n",
    "- **create domain** construct in SQL-92 creates user-defined domain types\n",
    "  ```sql\n",
    "    create domain person_name char(20) not null\n",
    "  ```\n",
    "\n",
    "- Types and domains are similar\n",
    "\n",
    "- Domains can have constraints, such as **not null** specified on them\n",
    "  ```sql\n",
    "    create domain degree_level varchar(10)\n",
    "    constraint degree_level_test\n",
    "    check (value in ('Bachelors', 'Masters', 'Doctorate'));\n",
    "  ```"
   ]
  },
  {
   "cell_type": "markdown",
   "metadata": {},
   "source": [
    "## Large-Object Types\n",
    "\n",
    "- Large objects (photos, videos, CAD files, etc.) are stored as a large object:\n",
    "  - **blob**: binary large object – object is a large collection of uninterpreted binary data (whose interpretation is left to an application outside of the database system)\n",
    "  - **clob**: character large object – object is a large collection of character data\n",
    "  - When a query returns a large object, a pointer is returned rather than the large object itself"
   ]
  },
  {
   "cell_type": "markdown",
   "metadata": {},
   "source": [
    "## Authorization\n",
    "\n",
    "- Forms of authorization on parts of the database:\n",
    "  - **Read** - allows reading, but not modification of data\n",
    "  - **Insert** - allows insertion of new data, but not modification of existing data\n",
    "  - **Update** - allows modification, but not deletion of data\n",
    "  - **Delete** - allows deletion of data\n",
    "\n",
    "- Forms of authorization to modify the database schema\n",
    "  - **Index** - allows creation and deletion of indices\n",
    "  - **Resources** - allows creation of new relations\n",
    "  - **Alteration** - allows addition or deletion of attributes in a relation\n",
    "  - **Drop** - allows deletion of relations"
   ]
  },
  {
   "cell_type": "markdown",
   "metadata": {},
   "source": [
    "## Authorization Specification in SQL\n",
    "\n",
    "- The **grant** statement is used to confer authorization\n",
    "  ```sql\n",
    "    grant <privilege list>\n",
    "    on <relation name or view name> to <user list>\n",
    "  ```\n",
    "\n",
    "- $\\text{<user list>}$ is:\n",
    "  - a user-id\n",
    "  - **public**, which allows all valid users the privilege granted\n",
    "  - A role (more on this later)\n",
    "\n",
    "- Granting a privilege on a view does not imply granting any privileges on the underlying relations\n",
    "\n",
    "- The grantor of the privilege must already hold the privilege on the specified item (or be the database administrator)"
   ]
  },
  {
   "cell_type": "markdown",
   "metadata": {},
   "source": [
    "## Privileges in SQL\n",
    "\n",
    "- **select**: allows read access to relation, or the ability to query using the view\n",
    "  - Example: grant users $U_1$, $U_2$, and $U_3$ **select** authorization on the instructor relation:\n",
    "    ```sql\n",
    "      grant select on instructor to U1, U2, U3\n",
    "    ```\n",
    "\n",
    "- **insert**: the ability to insert tuples\n",
    "\n",
    "- **update**: the ability to update tuples\n",
    "\n",
    "- **delete**: the ability to delete tuples\n",
    "\n",
    "- **all privileges**: used as a short form for all the allowable privileges\n",
    "\n"
   ]
  },
  {
   "cell_type": "markdown",
   "metadata": {},
   "source": [
    "## Revoking Authorization in SQL\n",
    "\n",
    "- The **revoke** statement is used to revoke authorization\n",
    "  ```sql\n",
    "    revoke <privilege list>\n",
    "    on <relation name or view name> from <user list>\n",
    "  ```\n",
    "\n",
    "- Example:\n",
    "  ```sql\n",
    "    revoke select on branch from U1, U2, U3\n",
    "  ```\n",
    "\n",
    "- $\\text{<privilege-list>}$ may be *all* to revoke all privileges the revokee may hold\n",
    "- If $\\text{<revokee-list>}$ includes *public*, all users lose the privilege except those granted it explicitly\n",
    "- If the same privilege was granted twice to the same user by different grantees, the user may retain the privilege after the revocation\n",
    "- All privileges that depend on the privilege being revoked are also revoked"
   ]
  },
  {
   "cell_type": "markdown",
   "metadata": {},
   "source": [
    "## Roles\n",
    "\n",
    "- ```sql\n",
    "    create role instructor;\n",
    "    grant instructor to Amit;\n",
    "   ```\n",
    "\n",
    "- Privileges can be granted to roles:\n",
    "  ```sql\n",
    "    grant select on takes to instructor;\n",
    "  ```\n",
    "\n",
    "- Roles can be granted to users, as well as to other roles\n",
    "  ```sql\n",
    "    create role teaching_assistant;\n",
    "    grant teaching_assistant to instructor;\n",
    "  ```\n",
    "  - Instructor inherits all privileges of teaching_assistant\n",
    "\n",
    "- Chain of roles\n",
    "  - **create role** dean;\n",
    "  - **grant** instructor **to** dean;\n",
    "  - **grant** dean **to** Satoshi;"
   ]
  },
  {
   "cell_type": "markdown",
   "metadata": {},
   "source": [
    "## Authorization on Views\n",
    "\n",
    " ```sql\n",
    "    create view geo_instructor as\n",
    "    (select *\n",
    "      from instructor\n",
    "      where dept_name = ’Geology’);\n",
    "      grant select on geo_instructor to geo_staff\n",
    " ```\n",
    "\n",
    "- Suppose that a geo_staff member issues\n",
    " \n",
    " ```sql\n",
    "    select *\n",
    "    from geo_instructor;\n",
    " ```\n",
    "\n",
    "- What if\n",
    "  - geo_staff does not have permissions on instructor?\n",
    "  - creator of view did not have some permissions on instructor?"
   ]
  },
  {
   "cell_type": "markdown",
   "metadata": {},
   "source": [
    "## Other Authorization Features\n",
    "\n",
    "- **references** privilege to create foreign key\n",
    "  ```sql\n",
    "    grant reference (dept_name) on department to Mariano;\n",
    "  ```\n",
    "  - why is this required?\n",
    "\n",
    "- Transfer of privileges\n",
    "  - **grant select on** department **to** Amit **with grant option**;\n",
    "  - **revoke select on** department **from** Amit, Satoshi **cascade**;\n",
    "  - **revoke select on** department **from** Amit, Satoshi **restrict**;"
   ]
  },
  {
   "cell_type": "markdown",
   "metadata": {},
   "source": [
    "# Lecture 3.5: Advanced SQL"
   ]
  },
  {
   "cell_type": "markdown",
   "metadata": {},
   "source": [
    "## Native Language ← → Query Language\n",
    "\n",
    "![](aaa.svg)\n"
   ]
  },
  {
   "cell_type": "markdown",
   "metadata": {},
   "source": [
    "## Functions and Procedures\n",
    "\n",
    "- Functions / Procedures and Control Flow Statements were added in SQL:1999\n",
    "  - Functions/Procedures can be written in SQL itself, or in an external programming language (like C, Java)\n",
    "  - Functions written in an external languages are particularly useful with specialized data types such as images and geometric objects\n",
    "    - Example: Functions to check if polygons overlap, or to compare images for similarity\n",
    "  - Some database systems support table-valued functions, which can return a relation as a result\n",
    "- SQL:1999 also supports a rich set of imperative constructs, including loops, if-then-else, and assignment\n",
    "- Many databases have proprietary procedural extensions to SQL that differ from SQL:1999"
   ]
  },
  {
   "cell_type": "markdown",
   "metadata": {},
   "source": [
    "## SQL Functions\n",
    "\n",
    "- Define a function that, given the name of a department, returns the count of the number of instructors in that department:\n",
    " \n",
    "    ```sql\n",
    "        create function dept_count (dept name varchar(20))\n",
    "            returns integer\n",
    "            begin\n",
    "            declare d_count integer;\n",
    "                select count (*) into d_count\n",
    "                from instructor\n",
    "                where instructor.dept_name = dept_name\n",
    "            return d_cont;\n",
    "            end\n",
    "    ```\n",
    "\n",
    "- The function dept count can be used to find the department names and budget of all departments with more that 12 instructors:\n",
    "  \n",
    "    ```sql\n",
    "        select dept_name, budget\n",
    "        from department\n",
    "        where dept_count (dept_name ) > 12\n",
    "    ```"
   ]
  },
  {
   "cell_type": "markdown",
   "metadata": {},
   "source": [
    "## SQL Functions (2)\n",
    "\n",
    "- Compound statement: **begin . . . end**\n",
    "  May contain multiple SQL statements between begin and end.\n",
    "\n",
    "- **returns** – indicates the variable-type that is returned (for example, integer)\n",
    "\n",
    "- **return** – specifies the values that are to be returned as result of invoking the function\n",
    "\n",
    "- SQL function are in fact *parameterized views* that generalize the regular notion of views by allowing parameters"
   ]
  },
  {
   "cell_type": "markdown",
   "metadata": {},
   "source": [
    "## Table Functions\n",
    "\n",
    "- Functions that return a relation as a result added in SQL:2003\n",
    "\n",
    "- Return all instructors in a given department:\n",
    "  ```sql\n",
    "    create function instructor_of (dept_name char(20))\n",
    "      returns table (\n",
    "        ID varchar(5),\n",
    "        name varchar(20),\n",
    "        dept_name varchar(20)\n",
    "        salary numeric(8, 2) )\n",
    "      returns table\n",
    "        (select ID, name, dept_name, salary\n",
    "        from instructor\n",
    "        where instructor.dept_name = instructor_of.dept_name)\n",
    "    ```\n",
    "\n",
    "- Usage\n",
    "  ```sql\n",
    "    select *\n",
    "    from table (instructor_of (‘Music’))\n",
    "  ```"
   ]
  },
  {
   "cell_type": "markdown",
   "metadata": {},
   "source": [
    "## SQL Procedures\n",
    "\n",
    "- The dept count function could instead be written as procedure:\n",
    " \n",
    "  ```sql\n",
    "        create procedure dept_count_proc (\n",
    "            in dept_name varchar (20), out d_count integer)\n",
    "            begin\n",
    "                select count(*) into d_count\n",
    "                from instructor\n",
    "                where instructor.dept_name = dept_count_proc.dept_name\n",
    "            end\n",
    "    ```\n",
    "\n",
    "- Procedures can be invoked either from an SQL procedure or from embedded SQL, using the **call** statement.\n",
    "\n",
    "    ```sql\n",
    "    declare d_count integer;\n",
    "    call dept_count_proc(‘Physics’, d_count);\n",
    "    ```\n",
    "\n",
    "- Procedures and functions can be invoked also from dynamic SQL\n",
    "\n",
    "- SQL:1999 allows **overloading** - more than one function/procedure of the same name as long as the number of arguments and/or the types of the arguments differ"
   ]
  },
  {
   "cell_type": "markdown",
   "metadata": {},
   "source": [
    "## Language Constructs for Procedures and Functions\n",
    "\n",
    "- SQL supports constructs that gives it almost all the power of a general-purpose programming language.\n",
    "  - Warning: **Most database systems implement their own variant of the standard syntax**\n",
    "\n",
    "- Compound statements: **begin . . . end**\n",
    "  - May contain multiple SQL statements between **begin** and **end**\n",
    "  - Local variables can be declared within a compound statement "
   ]
  },
  {
   "cell_type": "markdown",
   "metadata": {},
   "source": [
    "## Language Constructs (2): while and repeat\n",
    "\n",
    "- **while** loop\n",
    "  \n",
    "    ```sql\n",
    "        while boolean_expression do\n",
    "            sequence_of_statements;\n",
    "        end while;\n",
    "    ```\n",
    "- **repeat** loop\n",
    "\n",
    "    ```sql\n",
    "        repeat\n",
    "            sequence_of_statements;\n",
    "        until boolean_expression;\n",
    "        end repeat;\n",
    "    ```"
   ]
  },
  {
   "cell_type": "markdown",
   "metadata": {},
   "source": [
    "## Language Constructs (3): for\n",
    "\n",
    "- **for** loop\n",
    "  - Permits iteration over all results of a query\n",
    "\n",
    "- Find the budget if all departments: \n",
    "  ```sql\n",
    "      declare n integer default 0;\n",
    "      for r as\n",
    "        select budget from department\n",
    "      do\n",
    "        set n = n + r.budget\n",
    "      end for;\n",
    "  ```"
   ]
  },
  {
   "cell_type": "markdown",
   "metadata": {},
   "source": [
    "## Language Constructs (4): if-then-else\n",
    "\n",
    "- Conditional statements\n",
    "  - **if**-**then**-**else**\n",
    "  - **case**\n",
    "\n",
    "- **if**-**then**-**else** statement\n",
    "\n",
    "    ```sql\n",
    "        if boolean_expression then\n",
    "            sequence_of_statements;\n",
    "        elseif boolean_expression then\n",
    "            sequence_of_statements;\n",
    "        ...\n",
    "        else\n",
    "            sequence_of_statements;\n",
    "        end if;\n",
    "    ```\n",
    "\n",
    "- The **if** statement supports the use of optional **elseif** clauses and a default **else** clause\n",
    "\n",
    "- Example procedure: registers student after ensuring that classroom capacity is not exceeded\n",
    "  - Returns 0 on success and -1 if capacity is exceeded"
   ]
  },
  {
   "cell_type": "markdown",
   "metadata": {},
   "source": [
    "## Language Constructs (5): Simple case\n",
    "\n",
    "- Simple **case** statement\n",
    "\n",
    "    ```sql\n",
    "        case variable\n",
    "            when value1 then\n",
    "                sequence_of_statements;\n",
    "            when value2 then\n",
    "                sequence_of_statements;\n",
    "            ...\n",
    "            else\n",
    "                sequence_of_statements;\n",
    "        end case;\n",
    "    ```\n",
    "\n",
    "- The **when** clause of the **case** statement defines the value that when satisfied determines the flow of control"
   ]
  },
  {
   "cell_type": "markdown",
   "metadata": {},
   "source": [
    "## Language Constructs (6): Searched case\n",
    "\n",
    "- Searched **case** statements\n",
    "\n",
    "    ```sql\n",
    "        case\n",
    "            when sql_expression = value1 then\n",
    "                sequence_of_statements;\n",
    "            when sql_expression = value2 then\n",
    "                sequence_of_statements;\n",
    "            ...\n",
    "            else\n",
    "                sequence_of_statements;\n",
    "        end case;\n",
    "    ```\n",
    "\n",
    "- Any supported SQL expression can be used here. These expressions can contain references to variables, parameters, special registers, and more."
   ]
  },
  {
   "cell_type": "markdown",
   "metadata": {},
   "source": [
    "## Language Constructs (7): Exception\n",
    "\n",
    "- Signaling of exception conditions, and declaring handlers for exceptions \n",
    "\n",
    "    ```sql\n",
    "        declare out_of_classroom_seats condition\n",
    "        declare exit handler for out_of_classroom_seats\n",
    "        begin\n",
    "            ...\n",
    "            signal out_of_classroom_seats\n",
    "            ...\n",
    "        end\n",
    "    ```\n",
    "\n",
    "  - The handler here is **exit** – causes enclosing **begin . . . end** to be terminate and exit\n",
    "  - Other actions possible on exception"
   ]
  },
  {
   "cell_type": "markdown",
   "metadata": {},
   "source": [
    "## External Language Routines*\n",
    "\n",
    "- SQL:1999 allows the definition of functions and procedures in an external / imperative programming language, (Java, C#, C, or C++) which can be invoked from SQL queries\n",
    "\n",
    "- Such functions can be more efficient than functions defined in SQL, and computations that cannot be carried out in SQL can be executed by these functions\n",
    "\n",
    "- Declaring external language procedures and functions\n",
    "\n",
    "    ```sql\n",
    "        create procedure dept_count_proc(\n",
    "                in dept_name varchar(20),\n",
    "                out count integer)\n",
    "            language C\n",
    "            external name ’/usr/avi/bin/dept_count_proc’\n",
    "\n",
    "        create function dept_count(dept_name varchar(20))\n",
    "        returns integer\n",
    "            language C\n",
    "            external name ‘/usr/avi/bin/dept_count’\n",
    "    ```"
   ]
  },
  {
   "cell_type": "markdown",
   "metadata": {},
   "source": [
    "## External Language Routines (2)*\n",
    "\n",
    "- Benefits of external language functions/procedures:\n",
    "  - More efficient for many operations, and more expressive power\n",
    "\n",
    "- Drawbacks\n",
    "  - Code to implement function may need to be loaded into database system and executed in the database system’s address space\n",
    "    - Risk of accidental corruption of database structures\n",
    "    - Security risk, allowing users access to unauthorized data\n",
    "  - There are alternatives, which give good security at the cost of performance\n",
    "  - Direct execution in the database system’s space is used when efficiency is more important than security"
   ]
  },
  {
   "cell_type": "markdown",
   "metadata": {},
   "source": [
    "## External Language Routines (3)*: Security\n",
    "\n",
    "- To deal with security problems, we can do one of the following:\n",
    "  - Use **sandbox** techniques\n",
    "    - That is, use a safe language like Java, which cannot be used to access/damage other parts of the database code\n",
    "  - Run external language functions/procedures in a separate process, with no access to the database process’ memory\n",
    "    - Parameters and results communicated via inter-process communication\n",
    "- Both have performance overheads\n",
    "- Many database systems support both above approaches as well as direct executing in database system address space"
   ]
  },
  {
   "cell_type": "markdown",
   "metadata": {},
   "source": [
    "## Trigger\n",
    "\n",
    "- A **trigger** defines a set of actions that are performed in response to an **insert**, **update**, or **delete** operation on a specified table\n",
    "  - When such an SQL operation is executed, the trigger is said to have been **activated**\n",
    "  - Triggers are **optional**\n",
    "  - Triggers are defined using the **create trigger** statement\n",
    "\n",
    "- Triggers can be used\n",
    "  - To enforce data integrity rules via referential constraints and check constraints\n",
    "  - To cause updates to other tables, automatically generate or transform values for inserted or updated rows, or invoke functions to perform tasks such as issuing alerts\n",
    "\n",
    "- To design a trigger mechanism, we must:\n",
    "  - Specify the **events** / (like **update**, **insert**, or **delete**) for the trigger to executed\n",
    "  - Specify the **time** (**BEFORE** or **AFTER**) of execution\n",
    "  - Specify the **actions** to be taken when the trigger executes\n",
    "\n",
    "- **Syntax of triggers may vary across systems**"
   ]
  },
  {
   "cell_type": "markdown",
   "metadata": {},
   "source": [
    "## Types of Triggers: BEFORE\n",
    "\n",
    "- **BEFORE triggers**\n",
    "  - Run before an **update**, or **insert**\n",
    "  - Values that are being updated or inserted can be modified before the database is actually modified. You can use triggers that run before an update or insert to:\n",
    "    - Check or modify values before they are actually updated or inserted in the database\n",
    "      - Useful if user-view and internal database format differs\n",
    "    - Run other non-database operations coded in user-defined functions\n",
    "  \n",
    "- **BEFORE DELETE triggers**\n",
    "  - Run before a **delete**\n",
    "    - Checks values (a raises an error, if necessary)\n"
   ]
  },
  {
   "cell_type": "markdown",
   "metadata": {},
   "source": [
    "## Types of Triggers (2): AFTER\n",
    "\n",
    "- **AFTER triggers**\n",
    "  - Run before an **update**, **insert**, or **delete**\n",
    "  - You can use triggers that run after an update or insert to:\n",
    "    - Update data in other tables\n",
    "      - Useful for maintain relationships between data or keep audit trail\n",
    "    - Check against other data in the table or in other tables\n",
    "      - Useful to ensure data integrity when referential integrity constraints aren’t appropriate, or\n",
    "      - when table check constraints limit checking to the current table only\n",
    "    - Run non-database operations coded in user-defined functions\n",
    "      - Useful when issuing alerts or to update information outside the database"
   ]
  },
  {
   "cell_type": "markdown",
   "metadata": {},
   "source": [
    "## Row Level and Statement Level Triggers\n",
    "\n",
    "There are two types of triggers based on the level at which the triggers are applied:\n",
    "\n",
    "- **Row level triggers** are executed whenever a row is affected by the event on which the trigger is defined.\n",
    "  - Let Employee be a table with 100 rows. Suppose an **update** statement is executed to increase the salary of each employee by 10%. Any row level **update** trigger configured on the table Employee will affect all the 100 rows in the table during this update.\n",
    "\n",
    "- **Statement level triggers** perform a single action for all rows affected by a statement, instead of executing a separate action for each affected row.\n",
    "  - Used for each **statement** instead of for each **row**\n",
    "  - Uses **referencing old table** or **referencing new table** to refer to temporary tables called **transition tables** containing the affected rows\n",
    "  - Can be more efficient when dealing with SQL statements that update a large number of rows"
   ]
  },
  {
   "cell_type": "markdown",
   "metadata": {
    "tags": [
     "parameters"
    ]
   },
   "source": [
    "## Triggering Events and Actions in SQL\n",
    "\n",
    "- Triggering event can be an insert, delete or update\n",
    "- Triggers on update can be restricted to specific attributes\n",
    "  - For example, **after update of** *grade* **on** *takes*\n",
    "- Values of attributes before and after an update can be referenced\n",
    "  - **referencing old row as** : for deletes and updates\n",
    "  - **referencing new row as** : for inserts and updates\n",
    "- Triggers can be activated before an event, which can serve as extra constraints. For example, convert blank grades to null.\n",
    "  ```sql\n",
    "    create trigger setnull_trigger before update of takes\n",
    "    referencing new row as nrow\n",
    "    for each row\n",
    "    when (nrow.grade = ‘ ‘)\n",
    "      begin atomic\n",
    "        set nrow.grade = null;\n",
    "      end;\n",
    "  ```"
   ]
  },
  {
   "cell_type": "markdown",
   "metadata": {},
   "source": [
    "## Triggering to Maintain credits_earned value\n",
    "\n",
    "\n",
    "```sql\n",
    "  create trigger credits_earned after update of grade on takes\n",
    "  referencing new row as nrow\n",
    "  referencing old row as orow\n",
    "  for each row\n",
    "  when nrow.grade <> 'F' and nrow.grade is not null and\n",
    "       (orow.grade = 'F' or orow.grade is null)\n",
    "    begin atomic\n",
    "      update student\n",
    "      set tot_cred = tot_cred + \n",
    "          (select credits\n",
    "          from course\n",
    "          where course.course_id = nrow.course_id)\n",
    "      where student.ID = nrow.ID;\n",
    "    end;\n",
    "```"
   ]
  },
  {
   "cell_type": "markdown",
   "metadata": {},
   "source": [
    "## How to use triggers?\n",
    "\n",
    "- The optimal use of DML triggers is for short, simple, and easy to maintain write operations that act largely independent of an applications business logic.\n",
    "\n",
    "- Typical and recommended uses of triggers include:\n",
    "  - *Logging changes* to a history table\n",
    "  - *Auditing users and their actions* against sensitive tables\n",
    "  - *Adding additional values to a table* that may not be available to an application (due to security restrictions or other limitations), such as:\n",
    "    - Login/user name\n",
    "    - Time an operation occurs\n",
    "    - Server/database name\n",
    "  - Simple validation"
   ]
  },
  {
   "cell_type": "markdown",
   "metadata": {},
   "source": [
    "## How not to use triggers?\n",
    "\n",
    "- Triggers are like Lays: Once you pop, you can’t stop\n",
    "- One of the greatest challenges for architects and developers is to ensure that\n",
    "  - triggers are used only as needed, and\n",
    "  - to not allow them to become a one-size-fits-all solution for any data needs that happen to come along\n",
    "- Adding triggers is often seen as faster and easier than adding code to an application, but the cost of doing so is compounded over time with each added line of code"
   ]
  },
  {
   "cell_type": "markdown",
   "metadata": {},
   "source": [
    "## How to use triggers? (2)\n",
    "\n",
    "- Triggers can become dangerous when:\n",
    "  - There are too many\n",
    "  - Trigger code becomes complex\n",
    "  - Triggers go cross-server - across databases over network\n",
    "  - Triggers call triggers\n",
    "  - Recursive triggers are set to ON. This database-level setting is set to off by default\n",
    "  - Functions, stored procedures, or views are in triggers\n",
    "  - Iteration occurs"
   ]
  }
 ],
 "metadata": {
  "kernelspec": {
   "display_name": "Python 3 (ipykernel)",
   "language": "python",
   "name": "python3"
  },
  "language_info": {
   "codemirror_mode": {
    "name": "ipython",
    "version": 3
   },
   "file_extension": ".py",
   "mimetype": "text/x-python",
   "name": "python",
   "nbconvert_exporter": "python",
   "pygments_lexer": "ipython3",
   "version": "3.12.3"
  },
  "widgets": {
   "application/vnd.jupyter.widget-state+json": {
    "state": {},
    "version_major": 2,
    "version_minor": 0
   }
  }
 },
 "nbformat": 4,
 "nbformat_minor": 4
}
